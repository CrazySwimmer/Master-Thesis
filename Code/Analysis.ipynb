{
 "cells": [
  {
   "cell_type": "markdown",
   "metadata": {},
   "source": [
    "# Analysis"
   ]
  },
  {
   "cell_type": "code",
   "execution_count": 47,
   "metadata": {},
   "outputs": [],
   "source": [
    "library(xts)\n",
    "library(DBI)\n",
    "con <- dbConnect(odbc::odbc(), \"JupyterLab\", timeout = 10)"
   ]
  },
  {
   "cell_type": "markdown",
   "metadata": {},
   "source": [
    "## RPNA story count\n",
    "\n",
    "In this section, we build 4 time series of story count per day:\n",
    "- total_count\n",
    "- macro_count - stories containing no mention of any company\n",
    "- comp_count - stories containing only mentions of companies\n",
    "- mix_count - stories containg both mentions"
   ]
  },
  {
   "cell_type": "code",
   "execution_count": 48,
   "metadata": {},
   "outputs": [
    {
     "data": {
      "text/html": [
       "<table>\n",
       "<caption>A data.frame: 1 × 1</caption>\n",
       "<thead>\n",
       "\t<tr><th scope=col>NO_STORIES</th></tr>\n",
       "\t<tr><th scope=col>&lt;int&gt;</th></tr>\n",
       "</thead>\n",
       "<tbody>\n",
       "\t<tr><td>860401</td></tr>\n",
       "</tbody>\n",
       "</table>\n"
      ],
      "text/latex": [
       "A data.frame: 1 × 1\n",
       "\\begin{tabular}{l}\n",
       " NO\\_STORIES\\\\\n",
       " <int>\\\\\n",
       "\\hline\n",
       "\t 860401\\\\\n",
       "\\end{tabular}\n"
      ],
      "text/markdown": [
       "\n",
       "A data.frame: 1 × 1\n",
       "\n",
       "| NO_STORIES &lt;int&gt; |\n",
       "|---|\n",
       "| 860401 |\n",
       "\n"
      ],
      "text/plain": [
       "  NO_STORIES\n",
       "1 860401    "
      ]
     },
     "metadata": {},
     "output_type": "display_data"
    }
   ],
   "source": [
    "qry <-\n",
    "\"SELECT COUNT(DISTINCT RP_STORY_ID) AS NO_STORIES\n",
    " FROM dbo.RPNA_WSJ;\"\n",
    "\n",
    "dbGetQuery(con, qry)"
   ]
  },
  {
   "cell_type": "markdown",
   "metadata": {},
   "source": [
    "The Wall Street Journal published 860'401 stories from January 1, 2000 to August 31, 2019."
   ]
  },
  {
   "cell_type": "code",
   "execution_count": 49,
   "metadata": {},
   "outputs": [
    {
     "data": {
      "text/html": [
       "<table>\n",
       "<caption>A data.frame: 5 × 3</caption>\n",
       "<thead>\n",
       "\t<tr><th scope=col>ENTITY_TYPE</th><th scope=col>NO_STORIES</th><th scope=col>FRAC_STORIES</th></tr>\n",
       "\t<tr><th scope=col>&lt;chr&gt;</th><th scope=col>&lt;int&gt;</th><th scope=col>&lt;dbl&gt;</th></tr>\n",
       "</thead>\n",
       "<tbody>\n",
       "\t<tr><td>COMP</td><td>692211</td><td>80.4521380</td></tr>\n",
       "\t<tr><td>ORGA</td><td>423095</td><td>49.1741641</td></tr>\n",
       "\t<tr><td>CMDT</td><td>127743</td><td>14.8469144</td></tr>\n",
       "\t<tr><td>PLCE</td><td> 10654</td><td> 1.2382598</td></tr>\n",
       "\t<tr><td>CURR</td><td>  1313</td><td> 0.1526033</td></tr>\n",
       "</tbody>\n",
       "</table>\n"
      ],
      "text/latex": [
       "A data.frame: 5 × 3\n",
       "\\begin{tabular}{lll}\n",
       " ENTITY\\_TYPE & NO\\_STORIES & FRAC\\_STORIES\\\\\n",
       " <chr> & <int> & <dbl>\\\\\n",
       "\\hline\n",
       "\t COMP & 692211 & 80.4521380\\\\\n",
       "\t ORGA & 423095 & 49.1741641\\\\\n",
       "\t CMDT & 127743 & 14.8469144\\\\\n",
       "\t PLCE &  10654 &  1.2382598\\\\\n",
       "\t CURR &   1313 &  0.1526033\\\\\n",
       "\\end{tabular}\n"
      ],
      "text/markdown": [
       "\n",
       "A data.frame: 5 × 3\n",
       "\n",
       "| ENTITY_TYPE &lt;chr&gt; | NO_STORIES &lt;int&gt; | FRAC_STORIES &lt;dbl&gt; |\n",
       "|---|---|---|\n",
       "| COMP | 692211 | 80.4521380 |\n",
       "| ORGA | 423095 | 49.1741641 |\n",
       "| CMDT | 127743 | 14.8469144 |\n",
       "| PLCE |  10654 |  1.2382598 |\n",
       "| CURR |   1313 |  0.1526033 |\n",
       "\n"
      ],
      "text/plain": [
       "  ENTITY_TYPE NO_STORIES FRAC_STORIES\n",
       "1 COMP        692211     80.4521380  \n",
       "2 ORGA        423095     49.1741641  \n",
       "3 CMDT        127743     14.8469144  \n",
       "4 PLCE         10654      1.2382598  \n",
       "5 CURR          1313      0.1526033  "
      ]
     },
     "metadata": {},
     "output_type": "display_data"
    }
   ],
   "source": [
    "qry <-\n",
    "\"SELECT\n",
    "    ENTITY_TYPE,\n",
    "    COUNT(DISTINCT RP_STORY_ID) AS NO_STORIES,\n",
    "    100.0 * COUNT(DISTINCT RP_STORY_ID) / (SELECT COUNT(DISTINCT RP_STORY_ID) FROM dbo.RPNA_WSJ) AS FRAC_STORIES\n",
    "FROM dbo.RPNA_WSJ\n",
    "GROUP BY ENTITY_TYPE\n",
    "ORDER BY NO_STORIES DESC;\"\n",
    "\n",
    "dbGetQuery(con, qry)"
   ]
  },
  {
   "cell_type": "markdown",
   "metadata": {},
   "source": [
    "We see that 80% of the stories are related to at least one company. Also, organizations (50%) and commodities (15%) make up most of the \"macro\" content. Places (1.25%) and currencies (0.15%) are rarely covered."
   ]
  },
  {
   "cell_type": "code",
   "execution_count": 50,
   "metadata": {},
   "outputs": [
    {
     "data": {
      "text/html": [
       "<table>\n",
       "<caption>A data.frame: 3 × 3</caption>\n",
       "<thead>\n",
       "\t<tr><th scope=col>TYPE</th><th scope=col>NO_STORIES</th><th scope=col>FRAC_STORIES</th></tr>\n",
       "\t<tr><th scope=col>&lt;chr&gt;</th><th scope=col>&lt;int&gt;</th><th scope=col>&lt;dbl&gt;</th></tr>\n",
       "</thead>\n",
       "<tbody>\n",
       "\t<tr><td>Only companies mentioned</td><td>379337</td><td>44.08840</td></tr>\n",
       "\t<tr><td>Both mentioned          </td><td>312874</td><td>36.36374</td></tr>\n",
       "\t<tr><td>No companies mentioned  </td><td>168190</td><td>19.54786</td></tr>\n",
       "</tbody>\n",
       "</table>\n"
      ],
      "text/latex": [
       "A data.frame: 3 × 3\n",
       "\\begin{tabular}{lll}\n",
       " TYPE & NO\\_STORIES & FRAC\\_STORIES\\\\\n",
       " <chr> & <int> & <dbl>\\\\\n",
       "\\hline\n",
       "\t Only companies mentioned & 379337 & 44.08840\\\\\n",
       "\t Both mentioned           & 312874 & 36.36374\\\\\n",
       "\t No companies mentioned   & 168190 & 19.54786\\\\\n",
       "\\end{tabular}\n"
      ],
      "text/markdown": [
       "\n",
       "A data.frame: 3 × 3\n",
       "\n",
       "| TYPE &lt;chr&gt; | NO_STORIES &lt;int&gt; | FRAC_STORIES &lt;dbl&gt; |\n",
       "|---|---|---|\n",
       "| Only companies mentioned | 379337 | 44.08840 |\n",
       "| Both mentioned           | 312874 | 36.36374 |\n",
       "| No companies mentioned   | 168190 | 19.54786 |\n",
       "\n"
      ],
      "text/plain": [
       "  TYPE                     NO_STORIES FRAC_STORIES\n",
       "1 Only companies mentioned 379337     44.08840    \n",
       "2 Both mentioned           312874     36.36374    \n",
       "3 No companies mentioned   168190     19.54786    "
      ]
     },
     "metadata": {},
     "output_type": "display_data"
    }
   ],
   "source": [
    "qry <-\n",
    "\"WITH\n",
    " not_comp AS\n",
    " (\n",
    "    SELECT RP_STORY_ID\n",
    "    FROM dbo.RPNA_WSJ\n",
    "    WHERE ENTITY_TYPE<>'COMP'\n",
    " ),\n",
    " only_comp AS\n",
    " (\n",
    "    SELECT RP_STORY_ID\n",
    "    FROM dbo.RPNA_WSJ\n",
    "    WHERE ENTITY_TYPE='COMP'\n",
    " )\n",
    "\n",
    " SELECT\n",
    "    t.[TYPE],\n",
    "    t.NO_STORIES,\n",
    "    100.0 * t.NO_STORIES / SUM(NO_STORIES) OVER() AS FRAC_STORIES\n",
    " FROM (\n",
    "    SELECT\n",
    "        'Only companies mentioned' AS [TYPE],\n",
    "        COUNT(DISTINCT RP_STORY_ID) AS [NO_STORIES]\n",
    "    FROM dbo.RPNA_WSJ\n",
    "    WHERE RP_STORY_ID NOT IN (SELECT * FROM not_comp)\n",
    "\n",
    "    UNION ALL\n",
    "\n",
    "    SELECT\n",
    "        'No companies mentioned',\n",
    "        COUNT(DISTINCT RP_STORY_ID)\n",
    "    FROM dbo.RPNA_WSJ\n",
    "    WHERE RP_STORY_ID NOT IN (SELECT * FROM only_comp)\n",
    "\n",
    "    UNION ALL\n",
    "\n",
    "    SELECT\n",
    "        'Both mentioned',\n",
    "        COUNT(DISTINCT RP_STORY_ID)\n",
    "    FROM dbo.RPNA_WSJ\n",
    "    WHERE RP_STORY_ID IN (SELECT * FROM not_comp)\n",
    "      AND RP_STORY_ID IN (SELECT * FROM only_comp)\n",
    " ) t\n",
    " ORDER BY FRAC_STORIES DESC;\"\n",
    "\n",
    "dbGetQuery(con, qry)"
   ]
  },
  {
   "cell_type": "markdown",
   "metadata": {},
   "source": [
    "Going forward, we will define stories containing no mention of a company as \"macro\" news. All stories mentioning at least one company will be termed \"equity\" news. Hence, a more precise distinction would be between \"equity\" and \"non-equity\" news.\n",
    "\n",
    "**TBD:** Decide whether to define macro news as no equity or no equity + both."
   ]
  },
  {
   "cell_type": "code",
   "execution_count": 51,
   "metadata": {},
   "outputs": [
    {
     "data": {
      "text/plain": [
       "           total_count\n",
       "2000-04-02           2\n",
       "2000-04-03           2\n",
       "2000-04-04           3\n",
       "2000-04-05           2\n",
       "2000-04-06           2\n",
       "2000-04-09           3"
      ]
     },
     "metadata": {},
     "output_type": "display_data"
    }
   ],
   "source": [
    "# Get count of total stories per day\n",
    "qry <-\n",
    "\"DECLARE @time_shift int = -6;\n",
    "\n",
    " SELECT\n",
    "    CAST(DATEADD(HOUR, @time_shift, TIMESTAMP_EST) AS date) AS [DATE],\n",
    "    COUNT(DISTINCT RP_STORY_ID) AS total_count\n",
    " FROM dbo.RPNA_WSJ\n",
    " GROUP BY CAST(DATEADD(HOUR, @time_shift, TIMESTAMP_EST) AS date)\n",
    " ORDER BY [date];\"\n",
    "df <- dbGetQuery(con, qry)\n",
    "total_count <- xts(df[,2], order.by=df$DATE) # No need to set time zone as everything is done in SQL and we only work with dates in R.\n",
    "names(total_count) <- names(df)[2]\n",
    "head(total_count)"
   ]
  },
  {
   "cell_type": "code",
   "execution_count": 52,
   "metadata": {},
   "outputs": [
    {
     "data": {
      "text/plain": [
       "           macro_count\n",
       "2000-04-16           1\n",
       "2000-04-23           1\n",
       "2000-04-26           2\n",
       "2000-04-30          13\n",
       "2000-05-01           8\n",
       "2000-05-02          13"
      ]
     },
     "metadata": {},
     "output_type": "display_data"
    }
   ],
   "source": [
    "# Get count of non-company stories per day\n",
    "qry <-\n",
    "\"DECLARE @time_shift int = -6;\n",
    "\n",
    " SELECT\n",
    "    CAST(DATEADD(HOUR, @time_shift, TIMESTAMP_EST) AS date) AS [DATE],\n",
    "    COUNT(DISTINCT RP_STORY_ID) AS macro_count\n",
    " FROM dbo.RPNA_WSJ\n",
    " WHERE RP_STORY_ID NOT IN (\n",
    "    SELECT RP_STORY_ID\n",
    "    FROM dbo.RPNA_WSJ\n",
    "    WHERE ENTITY_TYPE='COMP'\n",
    " )\n",
    " GROUP BY CAST(DATEADD(HOUR, @time_shift, TIMESTAMP_EST) AS date)\n",
    " ORDER BY [date];\"\n",
    "df <- dbGetQuery(con, qry)\n",
    "macro_count <- xts(df[,2], order.by=df$DATE) # No need to set time zone as everything is done in SQL and we only work with dates in R.\n",
    "names(macro_count) <- names(df)[2]\n",
    "head(macro_count)"
   ]
  },
  {
   "cell_type": "code",
   "execution_count": 53,
   "metadata": {},
   "outputs": [
    {
     "data": {
      "text/plain": [
       "           comp_count\n",
       "2000-04-03          1\n",
       "2000-04-04          1\n",
       "2000-04-10          1\n",
       "2000-04-18          4\n",
       "2000-04-19          1\n",
       "2000-04-24          2"
      ]
     },
     "metadata": {},
     "output_type": "display_data"
    }
   ],
   "source": [
    "# Get count of companies-only stories per day\n",
    "qry <-\n",
    "\"DECLARE @time_shift int = -6;\n",
    "\n",
    " SELECT\n",
    "    CAST(DATEADD(HOUR, @time_shift, TIMESTAMP_EST) AS date) AS [DATE],\n",
    "    COUNT(DISTINCT RP_STORY_ID) AS comp_count\n",
    " FROM dbo.RPNA_WSJ\n",
    " WHERE RP_STORY_ID NOT IN (\n",
    "    SELECT RP_STORY_ID\n",
    "    FROM dbo.RPNA_WSJ\n",
    "    WHERE ENTITY_TYPE<>'COMP'\n",
    " )\n",
    " GROUP BY CAST(DATEADD(HOUR, @time_shift, TIMESTAMP_EST) AS date)\n",
    " ORDER BY [date];\"\n",
    "df <- dbGetQuery(con, qry)\n",
    "comp_count <- xts(df[,2], order.by=df$DATE) # No need to set time zone as everything is done in SQL and we only work with dates in R.\n",
    "names(comp_count) <- names(df)[2]\n",
    "head(comp_count)"
   ]
  },
  {
   "cell_type": "code",
   "execution_count": 54,
   "metadata": {},
   "outputs": [
    {
     "data": {
      "text/plain": [
       "           total_count macro_count comp_count mix_count\n",
       "2000-04-02           2           0          0         2\n",
       "2000-04-03           2           0          1         1\n",
       "2000-04-04           3           0          1         2\n",
       "2000-04-05           2           0          0         2\n",
       "2000-04-06           2           0          0         2\n",
       "2000-04-09           3           0          0         3"
      ]
     },
     "metadata": {},
     "output_type": "display_data"
    }
   ],
   "source": [
    "# Merge counts\n",
    "news <- merge(total_count, macro_count, fill=0, join=\"outer\")\n",
    "news <- merge(news, comp_count, fill=0, join=\"outer\")\n",
    "\n",
    "# Mix_count contains stories that include both companies and non-company entities\n",
    "news$mix_count <- news$total_count - (news$macro_count + news$comp_count)\n",
    "head(news)\n",
    "\n",
    "# Housekeeping\n",
    "rm(total_count, macro_count, comp_count, df)"
   ]
  },
  {
   "cell_type": "code",
   "execution_count": 44,
   "metadata": {},
   "outputs": [
    {
     "name": "stdout",
     "output_type": "stream",
     "text": [
      "An 'xts' object on 2000-04-02/2019-08-30 containing:\n",
      "  Data: int [1:6558, 1:4] 2 2 3 2 2 3 1 1 1 2 ...\n",
      " - attr(*, \"dimnames\")=List of 2\n",
      "  ..$ : NULL\n",
      "  ..$ : chr [1:4] \"total_count\" \"macro_count\" \"comp_count\" \"mix_count\"\n",
      "  Indexed by objects of class: [Date] TZ: UTC\n",
      "  xts Attributes:  \n",
      " NULL\n"
     ]
    },
    {
     "data": {
      "text/plain": [
       "           total_count macro_count comp_count mix_count\n",
       "2000-04-02           2           0          0         2\n",
       "2000-04-03           2           0          1         1\n",
       "2000-04-04           3           0          1         2\n",
       "2000-04-05           2           0          0         2\n",
       "2000-04-06           2           0          0         2\n",
       "2000-04-09           3           0          0         3\n",
       "2000-04-10           1           0          1         0\n",
       "2000-04-12           1           0          0         1\n",
       "2000-04-13           1           0          0         1\n",
       "2000-04-16           2           1          0         1\n",
       "2000-04-17           2           0          0         2\n",
       "2000-04-18           5           0          4         1\n",
       "2000-04-19           7           0          1         6\n",
       "2000-04-20           1           0          0         1\n",
       "2000-04-23           2           1          0         1\n",
       "2000-04-24           2           0          2         0\n",
       "2000-04-25           1           0          0         1\n",
       "2000-04-26           2           2          0         0\n",
       "2000-04-27           3           0          0         3\n",
       "2000-04-30         144          13         77        54"
      ]
     },
     "metadata": {},
     "output_type": "display_data"
    },
    {
     "data": {
      "text/plain": [
       "     Index             total_count      macro_count       comp_count    \n",
       " Min.   :2000-04-02   Min.   :   1.0   Min.   :  0.00   Min.   :  0.00  \n",
       " 1st Qu.:2005-07-15   1st Qu.:  74.0   1st Qu.: 13.00   1st Qu.: 26.00  \n",
       " Median :2010-03-25   Median : 113.0   Median : 21.00   Median : 46.00  \n",
       " Mean   :2010-02-21   Mean   : 131.2   Mean   : 25.65   Mean   : 57.84  \n",
       " 3rd Qu.:2014-09-23   3rd Qu.: 157.0   3rd Qu.: 31.00   3rd Qu.: 71.00  \n",
       " Max.   :2019-08-30   Max.   :1120.0   Max.   :315.00   Max.   :674.00  \n",
       "   mix_count     \n",
       " Min.   :  0.00  \n",
       " 1st Qu.: 28.00  \n",
       " Median : 44.00  \n",
       " Mean   : 47.71  \n",
       " 3rd Qu.: 61.00  \n",
       " Max.   :450.00  "
      ]
     },
     "metadata": {},
     "output_type": "display_data"
    }
   ],
   "source": [
    "str(news)\n",
    "news[1:20,]\n",
    "summary(news)"
   ]
  },
  {
   "cell_type": "markdown",
   "metadata": {},
   "source": [
    "## S&P 500 prices and returns\n",
    "\n",
    "In this section, we will build time series of returns of companies that were included in the S&P 500 at any point between January 1, 2001 and August 31, 2019."
   ]
  }
 ],
 "metadata": {
  "kernelspec": {
   "display_name": "R",
   "language": "R",
   "name": "ir"
  },
  "language_info": {
   "codemirror_mode": "r",
   "file_extension": ".r",
   "mimetype": "text/x-r-source",
   "name": "R",
   "pygments_lexer": "r",
   "version": "3.6.3"
  }
 },
 "nbformat": 4,
 "nbformat_minor": 4
}
