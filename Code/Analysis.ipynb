{
 "cells": [
  {
   "cell_type": "code",
   "execution_count": 507,
   "metadata": {},
   "outputs": [],
   "source": [
    "library(xts)\n",
    "library(tidyr)\n",
    "library(DBI)\n",
    "con <- dbConnect(odbc::odbc(), \"JupyterLab\", timeout = 10)"
   ]
  },
  {
   "cell_type": "markdown",
   "metadata": {},
   "source": [
    "# RPNA story count\n",
    "\n",
    "In this section, we build 4 time series of story count per day:\n",
    "- total_count\n",
    "- macro_count - stories containing no mention of any company\n",
    "- comp_count - stories containing only mentions of companies\n",
    "- mix_count - stories containg both mentions"
   ]
  },
  {
   "cell_type": "code",
   "execution_count": 508,
   "metadata": {},
   "outputs": [
    {
     "data": {
      "text/html": [
       "<table>\n",
       "<caption>A data.frame: 1 × 1</caption>\n",
       "<thead>\n",
       "\t<tr><th scope=col>NO_STORIES</th></tr>\n",
       "\t<tr><th scope=col>&lt;int&gt;</th></tr>\n",
       "</thead>\n",
       "<tbody>\n",
       "\t<tr><td>845222</td></tr>\n",
       "</tbody>\n",
       "</table>\n"
      ],
      "text/latex": [
       "A data.frame: 1 × 1\n",
       "\\begin{tabular}{l}\n",
       " NO\\_STORIES\\\\\n",
       " <int>\\\\\n",
       "\\hline\n",
       "\t 845222\\\\\n",
       "\\end{tabular}\n"
      ],
      "text/markdown": [
       "\n",
       "A data.frame: 1 × 1\n",
       "\n",
       "| NO_STORIES &lt;int&gt; |\n",
       "|---|\n",
       "| 845222 |\n",
       "\n"
      ],
      "text/plain": [
       "  NO_STORIES\n",
       "1 845222    "
      ]
     },
     "metadata": {},
     "output_type": "display_data"
    }
   ],
   "source": [
    "qry <-\n",
    "\"SELECT COUNT(DISTINCT RP_STORY_ID) AS NO_STORIES\n",
    " FROM dbo.RPNA_WSJ;\"\n",
    "\n",
    "dbGetQuery(con, qry)"
   ]
  },
  {
   "cell_type": "markdown",
   "metadata": {},
   "source": [
    "The Wall Street Journal published 845'222 stories from January 1, 2001 to August 31, 2019."
   ]
  },
  {
   "cell_type": "code",
   "execution_count": 509,
   "metadata": {},
   "outputs": [
    {
     "data": {
      "text/html": [
       "<table>\n",
       "<caption>A data.frame: 5 × 3</caption>\n",
       "<thead>\n",
       "\t<tr><th scope=col>ENTITY_TYPE</th><th scope=col>NO_STORIES</th><th scope=col>FRAC_STORIES</th></tr>\n",
       "\t<tr><th scope=col>&lt;chr&gt;</th><th scope=col>&lt;int&gt;</th><th scope=col>&lt;dbl&gt;</th></tr>\n",
       "</thead>\n",
       "<tbody>\n",
       "\t<tr><td>COMP</td><td>678952</td><td>80.3282451</td></tr>\n",
       "\t<tr><td>ORGA</td><td>416262</td><td>49.2488364</td></tr>\n",
       "\t<tr><td>CMDT</td><td>125606</td><td>14.8607112</td></tr>\n",
       "\t<tr><td>PLCE</td><td> 10517</td><td> 1.2442885</td></tr>\n",
       "\t<tr><td>CURR</td><td>  1286</td><td> 0.1521494</td></tr>\n",
       "</tbody>\n",
       "</table>\n"
      ],
      "text/latex": [
       "A data.frame: 5 × 3\n",
       "\\begin{tabular}{lll}\n",
       " ENTITY\\_TYPE & NO\\_STORIES & FRAC\\_STORIES\\\\\n",
       " <chr> & <int> & <dbl>\\\\\n",
       "\\hline\n",
       "\t COMP & 678952 & 80.3282451\\\\\n",
       "\t ORGA & 416262 & 49.2488364\\\\\n",
       "\t CMDT & 125606 & 14.8607112\\\\\n",
       "\t PLCE &  10517 &  1.2442885\\\\\n",
       "\t CURR &   1286 &  0.1521494\\\\\n",
       "\\end{tabular}\n"
      ],
      "text/markdown": [
       "\n",
       "A data.frame: 5 × 3\n",
       "\n",
       "| ENTITY_TYPE &lt;chr&gt; | NO_STORIES &lt;int&gt; | FRAC_STORIES &lt;dbl&gt; |\n",
       "|---|---|---|\n",
       "| COMP | 678952 | 80.3282451 |\n",
       "| ORGA | 416262 | 49.2488364 |\n",
       "| CMDT | 125606 | 14.8607112 |\n",
       "| PLCE |  10517 |  1.2442885 |\n",
       "| CURR |   1286 |  0.1521494 |\n",
       "\n"
      ],
      "text/plain": [
       "  ENTITY_TYPE NO_STORIES FRAC_STORIES\n",
       "1 COMP        678952     80.3282451  \n",
       "2 ORGA        416262     49.2488364  \n",
       "3 CMDT        125606     14.8607112  \n",
       "4 PLCE         10517      1.2442885  \n",
       "5 CURR          1286      0.1521494  "
      ]
     },
     "metadata": {},
     "output_type": "display_data"
    }
   ],
   "source": [
    "qry <-\n",
    "\"SELECT\n",
    "    ENTITY_TYPE,\n",
    "    COUNT(DISTINCT RP_STORY_ID) AS NO_STORIES,\n",
    "    100.0 * COUNT(DISTINCT RP_STORY_ID) / (SELECT COUNT(DISTINCT RP_STORY_ID) FROM dbo.RPNA_WSJ) AS FRAC_STORIES\n",
    "FROM dbo.RPNA_WSJ\n",
    "GROUP BY ENTITY_TYPE\n",
    "ORDER BY NO_STORIES DESC;\"\n",
    "\n",
    "dbGetQuery(con, qry)"
   ]
  },
  {
   "cell_type": "markdown",
   "metadata": {},
   "source": [
    "We see that 80% of the stories are related to at least one company. Also, organizations (50%) and commodities (15%) make up most of the \"macro\" content. Places (1.24%) and currencies (0.15%) are rarely covered."
   ]
  },
  {
   "cell_type": "code",
   "execution_count": 510,
   "metadata": {},
   "outputs": [
    {
     "data": {
      "text/html": [
       "<table>\n",
       "<caption>A data.frame: 3 × 3</caption>\n",
       "<thead>\n",
       "\t<tr><th scope=col>TYPE</th><th scope=col>NO_STORIES</th><th scope=col>FRAC_STORIES</th></tr>\n",
       "\t<tr><th scope=col>&lt;chr&gt;</th><th scope=col>&lt;int&gt;</th><th scope=col>&lt;dbl&gt;</th></tr>\n",
       "</thead>\n",
       "<tbody>\n",
       "\t<tr><td>Only companies mentioned</td><td>371901</td><td>44.00039</td></tr>\n",
       "\t<tr><td>Both mentioned          </td><td>307051</td><td>36.32785</td></tr>\n",
       "\t<tr><td>No companies mentioned  </td><td>166270</td><td>19.67175</td></tr>\n",
       "</tbody>\n",
       "</table>\n"
      ],
      "text/latex": [
       "A data.frame: 3 × 3\n",
       "\\begin{tabular}{lll}\n",
       " TYPE & NO\\_STORIES & FRAC\\_STORIES\\\\\n",
       " <chr> & <int> & <dbl>\\\\\n",
       "\\hline\n",
       "\t Only companies mentioned & 371901 & 44.00039\\\\\n",
       "\t Both mentioned           & 307051 & 36.32785\\\\\n",
       "\t No companies mentioned   & 166270 & 19.67175\\\\\n",
       "\\end{tabular}\n"
      ],
      "text/markdown": [
       "\n",
       "A data.frame: 3 × 3\n",
       "\n",
       "| TYPE &lt;chr&gt; | NO_STORIES &lt;int&gt; | FRAC_STORIES &lt;dbl&gt; |\n",
       "|---|---|---|\n",
       "| Only companies mentioned | 371901 | 44.00039 |\n",
       "| Both mentioned           | 307051 | 36.32785 |\n",
       "| No companies mentioned   | 166270 | 19.67175 |\n",
       "\n"
      ],
      "text/plain": [
       "  TYPE                     NO_STORIES FRAC_STORIES\n",
       "1 Only companies mentioned 371901     44.00039    \n",
       "2 Both mentioned           307051     36.32785    \n",
       "3 No companies mentioned   166270     19.67175    "
      ]
     },
     "metadata": {},
     "output_type": "display_data"
    }
   ],
   "source": [
    "qry <-\n",
    "\"WITH\n",
    " not_comp AS\n",
    " (\n",
    "    SELECT RP_STORY_ID\n",
    "    FROM dbo.RPNA_WSJ\n",
    "    WHERE ENTITY_TYPE<>'COMP'\n",
    " ),\n",
    " only_comp AS\n",
    " (\n",
    "    SELECT RP_STORY_ID\n",
    "    FROM dbo.RPNA_WSJ\n",
    "    WHERE ENTITY_TYPE='COMP'\n",
    " )\n",
    "\n",
    " SELECT\n",
    "    t.[TYPE],\n",
    "    t.NO_STORIES,\n",
    "    100.0 * t.NO_STORIES / SUM(NO_STORIES) OVER() AS FRAC_STORIES\n",
    " FROM (\n",
    "    SELECT\n",
    "        'Only companies mentioned' AS [TYPE],\n",
    "        COUNT(DISTINCT RP_STORY_ID) AS [NO_STORIES]\n",
    "    FROM dbo.RPNA_WSJ\n",
    "    WHERE RP_STORY_ID NOT IN (SELECT * FROM not_comp)\n",
    "\n",
    "    UNION ALL\n",
    "\n",
    "    SELECT\n",
    "        'No companies mentioned',\n",
    "        COUNT(DISTINCT RP_STORY_ID)\n",
    "    FROM dbo.RPNA_WSJ\n",
    "    WHERE RP_STORY_ID NOT IN (SELECT * FROM only_comp)\n",
    "\n",
    "    UNION ALL\n",
    "\n",
    "    SELECT\n",
    "        'Both mentioned',\n",
    "        COUNT(DISTINCT RP_STORY_ID)\n",
    "    FROM dbo.RPNA_WSJ\n",
    "    WHERE RP_STORY_ID IN (SELECT * FROM not_comp)\n",
    "      AND RP_STORY_ID IN (SELECT * FROM only_comp)\n",
    " ) t\n",
    " ORDER BY FRAC_STORIES DESC;\"\n",
    "\n",
    "dbGetQuery(con, qry)"
   ]
  },
  {
   "cell_type": "markdown",
   "metadata": {},
   "source": [
    "Going forward, we will define stories containing no mention of a company as \"macro\" news. All stories mentioning at least one company will be termed \"equity\" news. Hence, a more precise distinction would be between \"equity\" and \"non-equity\" news.\n",
    "\n",
    "**TBD:** Decide whether to define macro news as no equity or no equity + both."
   ]
  },
  {
   "cell_type": "code",
   "execution_count": 511,
   "metadata": {},
   "outputs": [
    {
     "data": {
      "text/plain": [
       "           total_count\n",
       "2001-01-01          95\n",
       "2001-01-03         104\n",
       "2001-01-04         136\n",
       "2001-01-07         145\n",
       "2001-01-08         124\n",
       "2001-01-09         121"
      ]
     },
     "metadata": {},
     "output_type": "display_data"
    }
   ],
   "source": [
    "# Get count of total stories per day\n",
    "qry <-\n",
    "\"DECLARE @time_shift int = -6;\n",
    "\n",
    " SELECT\n",
    "    CAST(DATEADD(HOUR, @time_shift, TIMESTAMP_EST) AS date) AS [DATE],\n",
    "    COUNT(DISTINCT RP_STORY_ID) AS total_count\n",
    " FROM dbo.RPNA_WSJ\n",
    " GROUP BY CAST(DATEADD(HOUR, @time_shift, TIMESTAMP_EST) AS date)\n",
    " ORDER BY [date];\"\n",
    "df <- dbGetQuery(con, qry)\n",
    "total_count <- xts(df[,2], order.by=df$DATE) # No need to set time zone as everything is done in SQL and we only work with dates in R.\n",
    "names(total_count) <- names(df)[2]\n",
    "head(total_count)"
   ]
  },
  {
   "cell_type": "code",
   "execution_count": 512,
   "metadata": {},
   "outputs": [
    {
     "data": {
      "text/plain": [
       "           macro_count\n",
       "2001-01-01           9\n",
       "2001-01-03          13\n",
       "2001-01-04          17\n",
       "2001-01-07          20\n",
       "2001-01-08          15\n",
       "2001-01-09          13"
      ]
     },
     "metadata": {},
     "output_type": "display_data"
    }
   ],
   "source": [
    "# Get count of non-company stories per day\n",
    "qry <-\n",
    "\"DECLARE @time_shift int = -6;\n",
    "\n",
    " SELECT\n",
    "    CAST(DATEADD(HOUR, @time_shift, TIMESTAMP_EST) AS date) AS [DATE],\n",
    "    COUNT(DISTINCT RP_STORY_ID) AS macro_count\n",
    " FROM dbo.RPNA_WSJ\n",
    " WHERE RP_STORY_ID NOT IN (\n",
    "    SELECT RP_STORY_ID\n",
    "    FROM dbo.RPNA_WSJ\n",
    "    WHERE ENTITY_TYPE='COMP'\n",
    " )\n",
    " GROUP BY CAST(DATEADD(HOUR, @time_shift, TIMESTAMP_EST) AS date)\n",
    " ORDER BY [date];\"\n",
    "df <- dbGetQuery(con, qry)\n",
    "macro_count <- xts(df[,2], order.by=df$DATE) # No need to set time zone as everything is done in SQL and we only work with dates in R.\n",
    "names(macro_count) <- names(df)[2]\n",
    "head(macro_count)"
   ]
  },
  {
   "cell_type": "code",
   "execution_count": 513,
   "metadata": {},
   "outputs": [
    {
     "data": {
      "text/plain": [
       "           comp_count\n",
       "2001-01-01         49\n",
       "2001-01-03         44\n",
       "2001-01-04         63\n",
       "2001-01-07         62\n",
       "2001-01-08         60\n",
       "2001-01-09         68"
      ]
     },
     "metadata": {},
     "output_type": "display_data"
    }
   ],
   "source": [
    "# Get count of companies-only stories per day\n",
    "qry <-\n",
    "\"DECLARE @time_shift int = -6;\n",
    "\n",
    " SELECT\n",
    "    CAST(DATEADD(HOUR, @time_shift, TIMESTAMP_EST) AS date) AS [DATE],\n",
    "    COUNT(DISTINCT RP_STORY_ID) AS comp_count\n",
    " FROM dbo.RPNA_WSJ\n",
    " WHERE RP_STORY_ID NOT IN (\n",
    "    SELECT RP_STORY_ID\n",
    "    FROM dbo.RPNA_WSJ\n",
    "    WHERE ENTITY_TYPE<>'COMP'\n",
    " )\n",
    " GROUP BY CAST(DATEADD(HOUR, @time_shift, TIMESTAMP_EST) AS date)\n",
    " ORDER BY [date];\"\n",
    "df <- dbGetQuery(con, qry)\n",
    "comp_count <- xts(df[,2], order.by=df$DATE) # No need to set time zone as everything is done in SQL and we only work with dates in R.\n",
    "names(comp_count) <- names(df)[2]\n",
    "head(comp_count)"
   ]
  },
  {
   "cell_type": "code",
   "execution_count": 514,
   "metadata": {},
   "outputs": [
    {
     "data": {
      "text/plain": [
       "           total_count macro_count comp_count mix_count\n",
       "2001-01-01          95           9         49        37\n",
       "2001-01-03         104          13         44        47\n",
       "2001-01-04         136          17         63        56\n",
       "2001-01-07         145          20         62        63\n",
       "2001-01-08         124          15         60        49\n",
       "2001-01-09         121          13         68        40"
      ]
     },
     "metadata": {},
     "output_type": "display_data"
    }
   ],
   "source": [
    "# Merge counts\n",
    "news <- merge(total_count, macro_count, fill=0, join=\"outer\")\n",
    "news <- merge(news, comp_count, fill=0, join=\"outer\")\n",
    "\n",
    "# Mix_count contains stories that include both companies and non-company entities\n",
    "news$mix_count <- news$total_count - (news$macro_count + news$comp_count)\n",
    "head(news)\n",
    "\n",
    "# Housekeeping\n",
    "rm(total_count, macro_count, comp_count, df)"
   ]
  },
  {
   "cell_type": "markdown",
   "metadata": {},
   "source": [
    "---\n",
    "\n",
    "# S&P 500 prices and returns\n",
    "\n",
    "In this section, we will build time series of returns of companies that were included in the S&P 500 at any point between January 1, 2001 and August 31, 2019.\n",
    "\n",
    "However, we will include the year 2000 to have enough observations for the stocks that get excluded from the S&P 500 during the first few months of 2001."
   ]
  },
  {
   "cell_type": "markdown",
   "metadata": {},
   "source": [
    "### Prices\n",
    "First, let's get the prices of the S&P constituents and the levels of the index itself."
   ]
  },
  {
   "cell_type": "code",
   "execution_count": 554,
   "metadata": {},
   "outputs": [],
   "source": [
    "# Get prices of S&P 500's constituents\n",
    "qry <-\n",
    "\"SELECT\n",
    "    'P' + CONVERT(varchar(100),PERMNO) AS permno,\n",
    "    [DATE] AS [date],\n",
    "    PRC AS price\n",
    " FROM dbo.CRSP_DSF\n",
    " ORDER BY permno, [date];\"\n",
    "\n",
    "dbGetQuery(con, qry) %>%\n",
    "    pivot_wider(names_from = permno, values_from = price) -> df\n",
    "\n",
    "# Convert to xts object\n",
    "prices <- xts(df[,-1], order.by=df$date)\n",
    "\n",
    "\n",
    "# Get levels of S&P 500 index\n",
    "qry <-\n",
    "\"SELECT\n",
    "    caldt AS [date],\n",
    "    spindx AS SP500\n",
    " FROM dbo.CRSP_SP500\n",
    " ORDER BY [date];\"\n",
    "df <- dbGetQuery(con, qry)\n",
    "\n",
    "# Convert to xts object\n",
    "df_xts <- xts(df$SP500, order.by=df$date)\n",
    "names(df_xts) <- \"SP500\"\n",
    "\n",
    "\n",
    "# Housekeeping\n",
    "rm(qry, df)"
   ]
  },
  {
   "cell_type": "markdown",
   "metadata": {},
   "source": [
    "### Excess Returns\n",
    "Once we have the prices, we can merge them insto a single xts object and compute their daily returns."
   ]
  },
  {
   "cell_type": "code",
   "execution_count": 555,
   "metadata": {},
   "outputs": [],
   "source": [
    "# Merge xts objects\n",
    "prices <- merge(df_xts, prices, join=\"outer\")\n",
    "\n",
    "# Compute arithmetic returns\n",
    "rets <- (prices / lag(prices, k=1, na.pad=FALSE)) - 1"
   ]
  },
  {
   "cell_type": "markdown",
   "metadata": {},
   "source": [
    "The last step is to subtract the risk-free rate of return from the stocks' and index daily returns.\n",
    "We use the 3-month treasury bill as a proxy for the risk free rate, as is usually the case in the literature."
   ]
  },
  {
   "cell_type": "code",
   "execution_count": 556,
   "metadata": {},
   "outputs": [],
   "source": [
    "# Get 3-month T-Bill (daily observations, yearly rates)\n",
    "qry <-\n",
    "\"SELECT\n",
    "    [DATE] AS [date],\n",
    "    TBILL AS tbill_yearly\n",
    " FROM dbo.FRED_TBILL3M\n",
    " ORDER BY [date];\"\n",
    "df <- dbGetQuery(con, qry)\n",
    "\n",
    "# Convert to xts object\n",
    "df_xts <- xts(df$tbill_yearly, order.by=df$date)\n",
    "\n",
    "# Compute daily returns from yearly rates\n",
    "tbill_3months <- na.locf(df_xts) / 4     # 3-month rates\n",
    "tbill <- tbill_3months^(1/90) - 1        # Daily rates\n",
    "names(tbill) <- \"TBill\"\n",
    "\n",
    "# Merge libor with returns to match the dates\n",
    "rets <- merge(rets, tbill, join=\"inner\")\n",
    "\n",
    "# Compute excess returns\n",
    "excess_rets <- xts(order.by=index(rets))\n",
    "for (i in 1:(dim(rets)[2]-1)) { # Last colum is LIBOR itself\n",
    "    excess_rets <- merge(excess_rets, rets[,i] - rets$TBill)\n",
    "}\n",
    "\n",
    "# Housekeeping\n",
    "rm(qry, df, df_xts, tbill_3months, tbill)"
   ]
  },
  {
   "cell_type": "markdown",
   "metadata": {},
   "source": [
    "---\n",
    "\n",
    "# Analysis - Discussed Approach\n",
    "\n",
    "In a first step, we estimate the model below for each of the 944 stocks that were included in the S&P 500 at any point in time from January 1, 2001 to August 31, 2019. Note however, that we will estimate $\\beta_i$ for stock $i$ from 2000 to 2019, in order to have enough observations even for the stocks that got excluded from the S&P 500 in the first few months of 2001.\n",
    "\n",
    "Formally, the model is\n",
    "\n",
    "\n",
    "$$\n",
    "\\begin{align*}\n",
    "R^i_t-R^f_t &= \\alpha_i + \\beta_i (R^m_t - R^f_t) + \\epsilon^i_t\n",
    "\\\\\n",
    "    &= \\alpha_i + \\mathrm{Systematic \\ part} + \\mathrm{Idiosyncratic \\ part},\n",
    "\\end{align*}\n",
    "$$\n",
    "\n",
    "where $\\alpha_i$ is a constant in the regression and not Jensen's alpha."
   ]
  },
  {
   "cell_type": "code",
   "execution_count": 559,
   "metadata": {},
   "outputs": [],
   "source": [
    "# /!\\ The loop can may be simplified by using na.action=\"na.exclude\" in lm() !\n",
    "\n",
    "# Create xts object to hold residuals of the regressions\n",
    "res <- xts(order.by=index(excess_rets))\n",
    "\n",
    "# Temp variables to help regressions\n",
    "permno <- colnames(excess_rets)[-1] # First name is SP500.\n",
    "time_index <- index(excess_rets)\n",
    "\n",
    "for (p in permno) {\n",
    "    # Prepare data\n",
    "    r <- as.data.frame(excess_rets[, c(\"SP500\",p)])\n",
    "\n",
    "    # Estimate model\n",
    "    fit <- lm(r[,p] ~ r$SP500)\n",
    "\n",
    "    # Prepare temporary xts to merge\n",
    "    index_not_na <- as.numeric(attributes(fit$residuals)$names) # The attribute $names of fit$residuals contains the indices of the residuals.\n",
    "    tmp <- xts(fit$residuals, order.by=time_index[index_not_na])\n",
    "    names(tmp) <- p\n",
    "\n",
    "    # Merge xts\n",
    "    res <- merge(res, tmp)\n",
    "}\n",
    "\n",
    "# Housekeeping\n",
    "rm(permno, time_index, p, r, fit, index_not_na, tmp)"
   ]
  },
  {
   "cell_type": "markdown",
   "metadata": {},
   "source": [
    "### Cross-sectional Correlation\n",
    "\n",
    "We then use the residuals $\\epsilon^i_t$ of stock $i \\in N$ to compute the cross-sectional correlation. Formally, we have\n",
    "\n",
    "$$\n",
    "\\rho_t = f(\\epsilon^i_t) = ?\n",
    "\\nonumber\n",
    "$$\n",
    "At time $t$, we have only one epsilon for each stock $i \\in N$. We can therefore represent a cross-section of $\\epsilon^i_t$ at time $t$ as a $1\\times N$  vector. In other words, at time $t$ we have only one residual for each stock.\n",
    "\n",
    "**How can we compute a correlation based on only 1 vector?**"
   ]
  },
  {
   "cell_type": "code",
   "execution_count": 560,
   "metadata": {},
   "outputs": [
    {
     "data": {
      "text/html": [
       "<table>\n",
       "<caption>A matrix: 3 × 3 of type dbl</caption>\n",
       "<thead>\n",
       "\t<tr><th></th><th scope=col>P10078</th><th scope=col>P10104</th><th scope=col>P10107</th></tr>\n",
       "</thead>\n",
       "<tbody>\n",
       "\t<tr><th scope=row>P10078</th><td>1.0000000</td><td>0.2680071</td><td>0.1118562</td></tr>\n",
       "\t<tr><th scope=row>P10104</th><td>0.2680071</td><td>1.0000000</td><td>0.1743708</td></tr>\n",
       "\t<tr><th scope=row>P10107</th><td>0.1118562</td><td>0.1743708</td><td>1.0000000</td></tr>\n",
       "</tbody>\n",
       "</table>\n"
      ],
      "text/latex": [
       "A matrix: 3 × 3 of type dbl\n",
       "\\begin{tabular}{r|lll}\n",
       "  & P10078 & P10104 & P10107\\\\\n",
       "\\hline\n",
       "\tP10078 & 1.0000000 & 0.2680071 & 0.1118562\\\\\n",
       "\tP10104 & 0.2680071 & 1.0000000 & 0.1743708\\\\\n",
       "\tP10107 & 0.1118562 & 0.1743708 & 1.0000000\\\\\n",
       "\\end{tabular}\n"
      ],
      "text/markdown": [
       "\n",
       "A matrix: 3 × 3 of type dbl\n",
       "\n",
       "| <!--/--> | P10078 | P10104 | P10107 |\n",
       "|---|---|---|---|\n",
       "| P10078 | 1.0000000 | 0.2680071 | 0.1118562 |\n",
       "| P10104 | 0.2680071 | 1.0000000 | 0.1743708 |\n",
       "| P10107 | 0.1118562 | 0.1743708 | 1.0000000 |\n",
       "\n"
      ],
      "text/plain": [
       "       P10078    P10104    P10107   \n",
       "P10078 1.0000000 0.2680071 0.1118562\n",
       "P10104 0.2680071 1.0000000 0.1743708\n",
       "P10107 0.1118562 0.1743708 1.0000000"
      ]
     },
     "metadata": {},
     "output_type": "display_data"
    },
    {
     "data": {
      "text/html": [
       "<table>\n",
       "<caption>A matrix: 3 × 3 of type dbl</caption>\n",
       "<thead>\n",
       "\t<tr><th></th><th scope=col>P10078</th><th scope=col>P10104</th><th scope=col>P10107</th></tr>\n",
       "</thead>\n",
       "<tbody>\n",
       "\t<tr><th scope=row>P10078</th><td>1.0000000</td><td>0.2680071</td><td>0.1118562</td></tr>\n",
       "\t<tr><th scope=row>P10104</th><td>0.2680071</td><td>1.0000000</td><td>0.1743708</td></tr>\n",
       "\t<tr><th scope=row>P10107</th><td>0.1118562</td><td>0.1743708</td><td>1.0000000</td></tr>\n",
       "</tbody>\n",
       "</table>\n"
      ],
      "text/latex": [
       "A matrix: 3 × 3 of type dbl\n",
       "\\begin{tabular}{r|lll}\n",
       "  & P10078 & P10104 & P10107\\\\\n",
       "\\hline\n",
       "\tP10078 & 1.0000000 & 0.2680071 & 0.1118562\\\\\n",
       "\tP10104 & 0.2680071 & 1.0000000 & 0.1743708\\\\\n",
       "\tP10107 & 0.1118562 & 0.1743708 & 1.0000000\\\\\n",
       "\\end{tabular}\n"
      ],
      "text/markdown": [
       "\n",
       "A matrix: 3 × 3 of type dbl\n",
       "\n",
       "| <!--/--> | P10078 | P10104 | P10107 |\n",
       "|---|---|---|---|\n",
       "| P10078 | 1.0000000 | 0.2680071 | 0.1118562 |\n",
       "| P10104 | 0.2680071 | 1.0000000 | 0.1743708 |\n",
       "| P10107 | 0.1118562 | 0.1743708 | 1.0000000 |\n",
       "\n"
      ],
      "text/plain": [
       "       P10078    P10104    P10107   \n",
       "P10078 1.0000000 0.2680071 0.1118562\n",
       "P10104 0.2680071 1.0000000 0.1743708\n",
       "P10107 0.1118562 0.1743708 1.0000000"
      ]
     },
     "metadata": {},
     "output_type": "display_data"
    }
   ],
   "source": [
    "cor(first(res[,1:3], n=\"4 years\"), use=\"complete.obs\")\n",
    "cor(first(res[,1:3], n=\"4 years\"), use=\"na.or.complete\")"
   ]
  },
  {
   "cell_type": "markdown",
   "metadata": {},
   "source": [
    "---\n",
    "\n",
    "# Analysis - Alternative Approach"
   ]
  },
  {
   "cell_type": "code",
   "execution_count": 564,
   "metadata": {},
   "outputs": [],
   "source": [
    "# This cell can be ignored and will later be removed!\n",
    "p <- 18\n",
    "\n",
    "reg_data_xts <- merge(excess_rets[,c(1,p)], news, join=\"inner\") \n",
    "r <- as.data.frame(reg_data_xts)\n",
    "\n",
    "\n",
    "r$ratio <- (r$macro_count + r$mix_count) / r$total_count\n",
    "\n",
    "fit <- lm(r[,2] ~ r$SP500 + r$ratio)\n",
    "\n",
    "summary(fit)\n",
    "#str(fit)"
   ]
  },
  {
   "cell_type": "code",
   "execution_count": null,
   "metadata": {},
   "outputs": [],
   "source": []
  }
 ],
 "metadata": {
  "kernelspec": {
   "display_name": "R",
   "language": "R",
   "name": "ir"
  },
  "language_info": {
   "codemirror_mode": "r",
   "file_extension": ".r",
   "mimetype": "text/x-r-source",
   "name": "R",
   "pygments_lexer": "r",
   "version": "3.6.3"
  }
 },
 "nbformat": 4,
 "nbformat_minor": 4
}
