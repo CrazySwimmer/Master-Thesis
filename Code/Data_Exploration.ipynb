{
 "cells": [
  {
   "cell_type": "code",
   "execution_count": 2,
   "metadata": {},
   "outputs": [],
   "source": [
    "#library(xts)\n",
    "#library(tidyr)\n",
    "library(DBI)\n",
    "library(ggplot2)\n",
    "conn <- dbConnect(odbc::odbc(), \"JupyterLab\", timeout = 10)\n",
    "\n",
    "## set universal plot size:\n",
    "aspect_ratio <- 1/2.5 #1/2.5\n",
    "width <- 12\n",
    "options(repr.plot.width=width, repr.plot.height=width*aspect_ratio)"
   ]
  },
  {
   "cell_type": "markdown",
   "metadata": {},
   "source": [
    "# RPNA"
   ]
  },
  {
   "cell_type": "code",
   "execution_count": 3,
   "metadata": {},
   "outputs": [
    {
     "data": {
      "text/html": [
       "<table>\n",
       "<caption>A data.frame: 5 × 4</caption>\n",
       "<thead>\n",
       "\t<tr><th scope=col>ENTITY_TYPE</th><th scope=col>STORY_COUNT</th><th scope=col>AVG_STORY_COUNT</th><th scope=col>STD_STORY_COUNT</th></tr>\n",
       "\t<tr><th scope=col>&lt;chr&gt;</th><th scope=col>&lt;int&gt;</th><th scope=col>&lt;dbl&gt;</th><th scope=col>&lt;dbl&gt;</th></tr>\n",
       "</thead>\n",
       "<tbody>\n",
       "\t<tr><td>COMP</td><td>234641</td><td>64.871716</td><td>51.207004</td></tr>\n",
       "\t<tr><td>ORGA</td><td> 64791</td><td>18.720312</td><td>20.108328</td></tr>\n",
       "\t<tr><td>CMDT</td><td> 16350</td><td> 4.923215</td><td> 3.674539</td></tr>\n",
       "\t<tr><td>PLCE</td><td>  7642</td><td> 3.277015</td><td> 3.056247</td></tr>\n",
       "\t<tr><td>CURR</td><td>   915</td><td> 1.138059</td><td> 0.478264</td></tr>\n",
       "</tbody>\n",
       "</table>\n"
      ],
      "text/latex": [
       "A data.frame: 5 × 4\n",
       "\\begin{tabular}{llll}\n",
       " ENTITY\\_TYPE & STORY\\_COUNT & AVG\\_STORY\\_COUNT & STD\\_STORY\\_COUNT\\\\\n",
       " <chr> & <int> & <dbl> & <dbl>\\\\\n",
       "\\hline\n",
       "\t COMP & 234641 & 64.871716 & 51.207004\\\\\n",
       "\t ORGA &  64791 & 18.720312 & 20.108328\\\\\n",
       "\t CMDT &  16350 &  4.923215 &  3.674539\\\\\n",
       "\t PLCE &   7642 &  3.277015 &  3.056247\\\\\n",
       "\t CURR &    915 &  1.138059 &  0.478264\\\\\n",
       "\\end{tabular}\n"
      ],
      "text/markdown": [
       "\n",
       "A data.frame: 5 × 4\n",
       "\n",
       "| ENTITY_TYPE &lt;chr&gt; | STORY_COUNT &lt;int&gt; | AVG_STORY_COUNT &lt;dbl&gt; | STD_STORY_COUNT &lt;dbl&gt; |\n",
       "|---|---|---|---|\n",
       "| COMP | 234641 | 64.871716 | 51.207004 |\n",
       "| ORGA |  64791 | 18.720312 | 20.108328 |\n",
       "| CMDT |  16350 |  4.923215 |  3.674539 |\n",
       "| PLCE |   7642 |  3.277015 |  3.056247 |\n",
       "| CURR |    915 |  1.138059 |  0.478264 |\n",
       "\n"
      ],
      "text/plain": [
       "  ENTITY_TYPE STORY_COUNT AVG_STORY_COUNT STD_STORY_COUNT\n",
       "1 COMP        234641      64.871716       51.207004      \n",
       "2 ORGA         64791      18.720312       20.108328      \n",
       "3 CMDT         16350       4.923215        3.674539      \n",
       "4 PLCE          7642       3.277015        3.056247      \n",
       "5 CURR           915       1.138059        0.478264      "
      ]
     },
     "metadata": {},
     "output_type": "display_data"
    }
   ],
   "source": [
    "# Story count per entity-type\n",
    "qry <-\n",
    "\"WITH t AS\n",
    " (\n",
    "    SELECT\n",
    "        DATEADD(HOUR, -6, TIMESTAMP_EST) AS [DATE],\n",
    "        RP_STORY_ID,\n",
    "        ENTITY_TYPE\n",
    "    FROM dbo.RPNA_WSJ\n",
    "    WHERE RELEVANCE >= 90\n",
    " )\n",
    "\n",
    " SELECT\n",
    "    t.ENTITY_TYPE,\n",
    "    SUM(t.STORY_COUNT) AS STORY_COUNT,\n",
    "    AVG(1.0 * t.STORY_COUNT) AS AVG_STORY_COUNT,\n",
    "    STDEV(1.0 * t.STORY_COUNT) AS STD_STORY_COUNT\n",
    " FROM (\n",
    "    SELECT\n",
    "        CONVERT(date, [DATE]) AS [DATE],\n",
    "        ENTITY_TYPE,\n",
    "        COUNT(DISTINCT RP_STORY_ID) AS STORY_COUNT\n",
    "    FROM t\n",
    "    GROUP BY CONVERT(date, [DATE]), ENTITY_TYPE\n",
    " ) t\n",
    " WHERE DATEPART(WEEKDAY, t.[DATE]) NOT IN (1,7)\n",
    " GROUP BY t.ENTITY_TYPE\n",
    " ORDER BY STORY_COUNT DESC;\"\n",
    "\n",
    "dbGetQuery(conn, qry)"
   ]
  },
  {
   "cell_type": "code",
   "execution_count": 4,
   "metadata": {},
   "outputs": [
    {
     "data": {
      "text/html": [
       "<table>\n",
       "<caption>A data.frame: 4 × 2</caption>\n",
       "<thead>\n",
       "\t<tr><th scope=col>GROUP</th><th scope=col>STORY_COUNT</th></tr>\n",
       "\t<tr><th scope=col>&lt;chr&gt;</th><th scope=col>&lt;int&gt;</th></tr>\n",
       "</thead>\n",
       "<tbody>\n",
       "\t<tr><td>Non-company</td><td> 40716</td></tr>\n",
       "\t<tr><td>Company    </td><td>165390</td></tr>\n",
       "\t<tr><td>Both       </td><td>101578</td></tr>\n",
       "\t<tr><td>Total      </td><td>307684</td></tr>\n",
       "</tbody>\n",
       "</table>\n"
      ],
      "text/latex": [
       "A data.frame: 4 × 2\n",
       "\\begin{tabular}{ll}\n",
       " GROUP & STORY\\_COUNT\\\\\n",
       " <chr> & <int>\\\\\n",
       "\\hline\n",
       "\t Non-company &  40716\\\\\n",
       "\t Company     & 165390\\\\\n",
       "\t Both        & 101578\\\\\n",
       "\t Total       & 307684\\\\\n",
       "\\end{tabular}\n"
      ],
      "text/markdown": [
       "\n",
       "A data.frame: 4 × 2\n",
       "\n",
       "| GROUP &lt;chr&gt; | STORY_COUNT &lt;int&gt; |\n",
       "|---|---|\n",
       "| Non-company |  40716 |\n",
       "| Company     | 165390 |\n",
       "| Both        | 101578 |\n",
       "| Total       | 307684 |\n",
       "\n"
      ],
      "text/plain": [
       "  GROUP       STORY_COUNT\n",
       "1 Non-company  40716     \n",
       "2 Company     165390     \n",
       "3 Both        101578     \n",
       "4 Total       307684     "
      ]
     },
     "metadata": {},
     "output_type": "display_data"
    }
   ],
   "source": [
    "qry <-\n",
    "\" WITH t AS\n",
    " (\n",
    "    SELECT\n",
    "        DATEADD(HOUR, -6, TIMESTAMP_EST) AS [DATE],\n",
    "        RP_STORY_ID,\n",
    "        ENTITY_TYPE\n",
    "    FROM dbo.RPNA_WSJ\n",
    "    WHERE RELEVANCE >= 90\n",
    " )\n",
    "\n",
    " SELECT\n",
    "    'Non-company' AS [GROUP],\n",
    "    COUNT(DISTINCT RP_STORY_ID) AS STORY_COUNT\n",
    " FROM t\n",
    " WHERE RP_STORY_ID NOT IN (\n",
    "    SELECT RP_STORY_ID\n",
    "    FROM dbo.RPNA_WSJ\n",
    "    WHERE ENTITY_TYPE = 'COMP')\n",
    " AND DATEPART(WEEKDAY, [DATE]) NOT IN (1,7)\n",
    "\n",
    " UNION ALL\n",
    "\n",
    "  SELECT\n",
    "    'Company' AS [Group],\n",
    "    COUNT(DISTINCT RP_STORY_ID)\n",
    " FROM t\n",
    " WHERE RP_STORY_ID NOT IN (\n",
    "    SELECT RP_STORY_ID\n",
    "    FROM dbo.RPNA_WSJ\n",
    "    WHERE ENTITY_TYPE <> 'COMP')\n",
    " AND DATEPART(WEEKDAY, [DATE]) NOT IN (1,7)\n",
    "\n",
    " UNION ALL\n",
    "\n",
    " SELECT\n",
    "    'Both' AS [Group],\n",
    "    COUNT(DISTINCT RP_STORY_ID)\n",
    " FROM t\n",
    " WHERE RP_STORY_ID IN (\n",
    "    SELECT RP_STORY_ID\n",
    "    FROM dbo.RPNA_WSJ\n",
    "    WHERE ENTITY_TYPE <> 'COMP')\n",
    " AND RP_STORY_ID IN (\n",
    "    SELECT RP_STORY_ID\n",
    "    FROM dbo.RPNA_WSJ\n",
    "    WHERE ENTITY_TYPE = 'COMP')\n",
    " AND DATEPART(WEEKDAY, [DATE]) NOT IN (1,7)\n",
    "\n",
    " UNION ALL\n",
    "\n",
    " SELECT\n",
    "    'Total' AS [GROUP],\n",
    "    COUNT(DISTINCT RP_STORY_ID)\n",
    " FROM t\n",
    " WHERE DATEPART(WEEKDAY, [DATE]) NOT IN (1,7);\"\n",
    "\n",
    "dbGetQuery(conn, qry)"
   ]
  },
  {
   "cell_type": "code",
   "execution_count": 5,
   "metadata": {},
   "outputs": [
    {
     "data": {
      "text/html": [
       "<table>\n",
       "<caption>A data.frame: 14 × 2</caption>\n",
       "<thead>\n",
       "\t<tr><th scope=col>YEAR</th><th scope=col>STORY_COUNT</th></tr>\n",
       "\t<tr><th scope=col>&lt;int&gt;</th><th scope=col>&lt;int&gt;</th></tr>\n",
       "</thead>\n",
       "<tbody>\n",
       "\t<tr><td>2001</td><td>13297</td></tr>\n",
       "\t<tr><td>2002</td><td>12430</td></tr>\n",
       "\t<tr><td>2003</td><td>11666</td></tr>\n",
       "\t<tr><td>2004</td><td>14966</td></tr>\n",
       "\t<tr><td>2005</td><td>13659</td></tr>\n",
       "\t<tr><td>2006</td><td>12855</td></tr>\n",
       "\t<tr><td>2007</td><td>12084</td></tr>\n",
       "\t<tr><td>2008</td><td>17506</td></tr>\n",
       "\t<tr><td>2009</td><td>21616</td></tr>\n",
       "\t<tr><td>2010</td><td>23192</td></tr>\n",
       "\t<tr><td>2011</td><td>31226</td></tr>\n",
       "\t<tr><td>2012</td><td>40327</td></tr>\n",
       "\t<tr><td>2013</td><td>62892</td></tr>\n",
       "\t<tr><td>2014</td><td>19968</td></tr>\n",
       "</tbody>\n",
       "</table>\n"
      ],
      "text/latex": [
       "A data.frame: 14 × 2\n",
       "\\begin{tabular}{ll}\n",
       " YEAR & STORY\\_COUNT\\\\\n",
       " <int> & <int>\\\\\n",
       "\\hline\n",
       "\t 2001 & 13297\\\\\n",
       "\t 2002 & 12430\\\\\n",
       "\t 2003 & 11666\\\\\n",
       "\t 2004 & 14966\\\\\n",
       "\t 2005 & 13659\\\\\n",
       "\t 2006 & 12855\\\\\n",
       "\t 2007 & 12084\\\\\n",
       "\t 2008 & 17506\\\\\n",
       "\t 2009 & 21616\\\\\n",
       "\t 2010 & 23192\\\\\n",
       "\t 2011 & 31226\\\\\n",
       "\t 2012 & 40327\\\\\n",
       "\t 2013 & 62892\\\\\n",
       "\t 2014 & 19968\\\\\n",
       "\\end{tabular}\n"
      ],
      "text/markdown": [
       "\n",
       "A data.frame: 14 × 2\n",
       "\n",
       "| YEAR &lt;int&gt; | STORY_COUNT &lt;int&gt; |\n",
       "|---|---|\n",
       "| 2001 | 13297 |\n",
       "| 2002 | 12430 |\n",
       "| 2003 | 11666 |\n",
       "| 2004 | 14966 |\n",
       "| 2005 | 13659 |\n",
       "| 2006 | 12855 |\n",
       "| 2007 | 12084 |\n",
       "| 2008 | 17506 |\n",
       "| 2009 | 21616 |\n",
       "| 2010 | 23192 |\n",
       "| 2011 | 31226 |\n",
       "| 2012 | 40327 |\n",
       "| 2013 | 62892 |\n",
       "| 2014 | 19968 |\n",
       "\n"
      ],
      "text/plain": [
       "   YEAR STORY_COUNT\n",
       "1  2001 13297      \n",
       "2  2002 12430      \n",
       "3  2003 11666      \n",
       "4  2004 14966      \n",
       "5  2005 13659      \n",
       "6  2006 12855      \n",
       "7  2007 12084      \n",
       "8  2008 17506      \n",
       "9  2009 21616      \n",
       "10 2010 23192      \n",
       "11 2011 31226      \n",
       "12 2012 40327      \n",
       "13 2013 62892      \n",
       "14 2014 19968      "
      ]
     },
     "metadata": {},
     "output_type": "display_data"
    }
   ],
   "source": [
    "qry <-\n",
    "\"SELECT\n",
    "    YEAR([DATE]) AS [YEAR],\n",
    "    COUNT(DISTINCT RP_STORY_ID) AS STORY_COUNT\n",
    " FROM (\n",
    "    SELECT\n",
    "        DATEADD(HOUR,-6,TIMESTAMP_EST) AS [DATE],\n",
    "        RP_STORY_ID\n",
    "    FROM dbo.RPNA_WSJ\n",
    "    WHERE DATEPART(WEEKDAY, DATEADD(HOUR,-6,TIMESTAMP_EST)) NOT IN (1,7)\n",
    "    AND RELEVANCE >= 90\n",
    ") t\n",
    "GROUP BY YEAR([DATE])\n",
    "ORDER BY [YEAR];\"\n",
    "\n",
    "dbGetQuery(conn, qry)"
   ]
  },
  {
   "cell_type": "code",
   "execution_count": 6,
   "metadata": {},
   "outputs": [
    {
     "data": {
      "text/html": [
       "<table>\n",
       "<caption>A data.frame: 12 × 2</caption>\n",
       "<thead>\n",
       "\t<tr><th scope=col>MONTH</th><th scope=col>STORY_COUNT</th></tr>\n",
       "\t<tr><th scope=col>&lt;int&gt;</th><th scope=col>&lt;int&gt;</th></tr>\n",
       "</thead>\n",
       "<tbody>\n",
       "\t<tr><td> 1</td><td>29369</td></tr>\n",
       "\t<tr><td> 2</td><td>27542</td></tr>\n",
       "\t<tr><td> 3</td><td>30129</td></tr>\n",
       "\t<tr><td> 4</td><td>29106</td></tr>\n",
       "\t<tr><td> 5</td><td>29750</td></tr>\n",
       "\t<tr><td> 6</td><td>27805</td></tr>\n",
       "\t<tr><td> 7</td><td>28491</td></tr>\n",
       "\t<tr><td> 8</td><td>25249</td></tr>\n",
       "\t<tr><td> 9</td><td>27977</td></tr>\n",
       "\t<tr><td>10</td><td>32366</td></tr>\n",
       "\t<tr><td>11</td><td>28097</td></tr>\n",
       "\t<tr><td>12</td><td>24712</td></tr>\n",
       "</tbody>\n",
       "</table>\n"
      ],
      "text/latex": [
       "A data.frame: 12 × 2\n",
       "\\begin{tabular}{ll}\n",
       " MONTH & STORY\\_COUNT\\\\\n",
       " <int> & <int>\\\\\n",
       "\\hline\n",
       "\t  1 & 29369\\\\\n",
       "\t  2 & 27542\\\\\n",
       "\t  3 & 30129\\\\\n",
       "\t  4 & 29106\\\\\n",
       "\t  5 & 29750\\\\\n",
       "\t  6 & 27805\\\\\n",
       "\t  7 & 28491\\\\\n",
       "\t  8 & 25249\\\\\n",
       "\t  9 & 27977\\\\\n",
       "\t 10 & 32366\\\\\n",
       "\t 11 & 28097\\\\\n",
       "\t 12 & 24712\\\\\n",
       "\\end{tabular}\n"
      ],
      "text/markdown": [
       "\n",
       "A data.frame: 12 × 2\n",
       "\n",
       "| MONTH &lt;int&gt; | STORY_COUNT &lt;int&gt; |\n",
       "|---|---|\n",
       "|  1 | 29369 |\n",
       "|  2 | 27542 |\n",
       "|  3 | 30129 |\n",
       "|  4 | 29106 |\n",
       "|  5 | 29750 |\n",
       "|  6 | 27805 |\n",
       "|  7 | 28491 |\n",
       "|  8 | 25249 |\n",
       "|  9 | 27977 |\n",
       "| 10 | 32366 |\n",
       "| 11 | 28097 |\n",
       "| 12 | 24712 |\n",
       "\n"
      ],
      "text/plain": [
       "   MONTH STORY_COUNT\n",
       "1   1    29369      \n",
       "2   2    27542      \n",
       "3   3    30129      \n",
       "4   4    29106      \n",
       "5   5    29750      \n",
       "6   6    27805      \n",
       "7   7    28491      \n",
       "8   8    25249      \n",
       "9   9    27977      \n",
       "10 10    32366      \n",
       "11 11    28097      \n",
       "12 12    24712      "
      ]
     },
     "metadata": {},
     "output_type": "display_data"
    }
   ],
   "source": [
    "qry <-\n",
    "\"SELECT\n",
    "    MONTH([DATE]) AS [MONTH],\n",
    "    COUNT(DISTINCT RP_STORY_ID) AS STORY_COUNT\n",
    " FROM (\n",
    "    SELECT\n",
    "        DATEADD(HOUR,-6,TIMESTAMP_EST) AS [DATE],\n",
    "        RP_STORY_ID,\n",
    "        ENTITY_TYPE\n",
    "    FROM dbo.RPNA_WSJ\n",
    "    WHERE RELEVANCE >= 90\n",
    " ) t\n",
    " GROUP BY MONTH([DATE])\n",
    " ORDER BY [MONTH];\"\n",
    "\n",
    "dbGetQuery(conn, qry)"
   ]
  },
  {
   "cell_type": "code",
   "execution_count": 7,
   "metadata": {},
   "outputs": [
    {
     "data": {
      "text/html": [
       "<table>\n",
       "<caption>A data.frame: 4 × 2</caption>\n",
       "<thead>\n",
       "\t<tr><th scope=col>QUARTER</th><th scope=col>STORY_COUNT</th></tr>\n",
       "\t<tr><th scope=col>&lt;int&gt;</th><th scope=col>&lt;int&gt;</th></tr>\n",
       "</thead>\n",
       "<tbody>\n",
       "\t<tr><td>1</td><td>87040</td></tr>\n",
       "\t<tr><td>2</td><td>86661</td></tr>\n",
       "\t<tr><td>3</td><td>81717</td></tr>\n",
       "\t<tr><td>4</td><td>85175</td></tr>\n",
       "</tbody>\n",
       "</table>\n"
      ],
      "text/latex": [
       "A data.frame: 4 × 2\n",
       "\\begin{tabular}{ll}\n",
       " QUARTER & STORY\\_COUNT\\\\\n",
       " <int> & <int>\\\\\n",
       "\\hline\n",
       "\t 1 & 87040\\\\\n",
       "\t 2 & 86661\\\\\n",
       "\t 3 & 81717\\\\\n",
       "\t 4 & 85175\\\\\n",
       "\\end{tabular}\n"
      ],
      "text/markdown": [
       "\n",
       "A data.frame: 4 × 2\n",
       "\n",
       "| QUARTER &lt;int&gt; | STORY_COUNT &lt;int&gt; |\n",
       "|---|---|\n",
       "| 1 | 87040 |\n",
       "| 2 | 86661 |\n",
       "| 3 | 81717 |\n",
       "| 4 | 85175 |\n",
       "\n"
      ],
      "text/plain": [
       "  QUARTER STORY_COUNT\n",
       "1 1       87040      \n",
       "2 2       86661      \n",
       "3 3       81717      \n",
       "4 4       85175      "
      ]
     },
     "metadata": {},
     "output_type": "display_data"
    }
   ],
   "source": [
    "qry <-\n",
    "\"SELECT\n",
    "    DATEPART(QUARTER,[DATE]) AS [QUARTER],\n",
    "    COUNT(DISTINCT RP_STORY_ID) AS STORY_COUNT\n",
    " FROM (\n",
    "    SELECT\n",
    "        DATEADD(HOUR,-6,TIMESTAMP_EST) AS [DATE],\n",
    "        RP_STORY_ID,\n",
    "        ENTITY_TYPE\n",
    "    FROM dbo.RPNA_WSJ\n",
    "    WHERE RELEVANCE >= 90\n",
    " ) t\n",
    " GROUP BY DATEPART(QUARTER,[DATE])\n",
    " ORDER BY [QUARTER];\"\n",
    "\n",
    "dbGetQuery(conn, qry)"
   ]
  },
  {
   "cell_type": "code",
   "execution_count": 8,
   "metadata": {},
   "outputs": [
    {
     "data": {
      "text/html": [
       "<table>\n",
       "<caption>A data.frame: 7 × 2</caption>\n",
       "<thead>\n",
       "\t<tr><th scope=col>WEEKDAY</th><th scope=col>STORY_COUNT</th></tr>\n",
       "\t<tr><th scope=col>&lt;int&gt;</th><th scope=col>&lt;int&gt;</th></tr>\n",
       "</thead>\n",
       "<tbody>\n",
       "\t<tr><td>1</td><td>29467</td></tr>\n",
       "\t<tr><td>2</td><td>58664</td></tr>\n",
       "\t<tr><td>3</td><td>72696</td></tr>\n",
       "\t<tr><td>4</td><td>69950</td></tr>\n",
       "\t<tr><td>5</td><td>70277</td></tr>\n",
       "\t<tr><td>6</td><td>36097</td></tr>\n",
       "\t<tr><td>7</td><td> 3442</td></tr>\n",
       "</tbody>\n",
       "</table>\n"
      ],
      "text/latex": [
       "A data.frame: 7 × 2\n",
       "\\begin{tabular}{ll}\n",
       " WEEKDAY & STORY\\_COUNT\\\\\n",
       " <int> & <int>\\\\\n",
       "\\hline\n",
       "\t 1 & 29467\\\\\n",
       "\t 2 & 58664\\\\\n",
       "\t 3 & 72696\\\\\n",
       "\t 4 & 69950\\\\\n",
       "\t 5 & 70277\\\\\n",
       "\t 6 & 36097\\\\\n",
       "\t 7 &  3442\\\\\n",
       "\\end{tabular}\n"
      ],
      "text/markdown": [
       "\n",
       "A data.frame: 7 × 2\n",
       "\n",
       "| WEEKDAY &lt;int&gt; | STORY_COUNT &lt;int&gt; |\n",
       "|---|---|\n",
       "| 1 | 29467 |\n",
       "| 2 | 58664 |\n",
       "| 3 | 72696 |\n",
       "| 4 | 69950 |\n",
       "| 5 | 70277 |\n",
       "| 6 | 36097 |\n",
       "| 7 |  3442 |\n",
       "\n"
      ],
      "text/plain": [
       "  WEEKDAY STORY_COUNT\n",
       "1 1       29467      \n",
       "2 2       58664      \n",
       "3 3       72696      \n",
       "4 4       69950      \n",
       "5 5       70277      \n",
       "6 6       36097      \n",
       "7 7        3442      "
      ]
     },
     "metadata": {},
     "output_type": "display_data"
    }
   ],
   "source": [
    "# Sunday (1) to Saturday (7) \n",
    "qry <-\n",
    "\"SELECT\n",
    "    DATEPART(WEEKDAY,[DATE]) AS [WEEKDAY],\n",
    "    COUNT(DISTINCT RP_STORY_ID) AS STORY_COUNT\n",
    " FROM (\n",
    "    SELECT\n",
    "        DATEADD(HOUR,-6,TIMESTAMP_EST) AS [DATE],\n",
    "        RP_STORY_ID,\n",
    "        ENTITY_TYPE\n",
    "    FROM dbo.RPNA_WSJ\n",
    "    WHERE RELEVANCE >= 90\n",
    " ) t\n",
    " GROUP BY DATEPART(WEEKDAY,[DATE])\n",
    " ORDER BY [WEEKDAY];\"\n",
    "\n",
    "dbGetQuery(conn, qry)"
   ]
  },
  {
   "cell_type": "markdown",
   "metadata": {},
   "source": [
    "# TAQ"
   ]
  },
  {
   "cell_type": "code",
   "execution_count": 9,
   "metadata": {},
   "outputs": [
    {
     "data": {
      "text/html": [
       "<table>\n",
       "<caption>A data.frame: 1 × 1</caption>\n",
       "<thead>\n",
       "\t<tr><th scope=col></th></tr>\n",
       "\t<tr><th scope=col>&lt;int&gt;</th></tr>\n",
       "</thead>\n",
       "<tbody>\n",
       "\t<tr><td>810</td></tr>\n",
       "</tbody>\n",
       "</table>\n"
      ],
      "text/latex": [
       "A data.frame: 1 × 1\n",
       "\\begin{tabular}{l}\n",
       " \\\\\n",
       " <int>\\\\\n",
       "\\hline\n",
       "\t 810\\\\\n",
       "\\end{tabular}\n"
      ],
      "text/markdown": [
       "\n",
       "A data.frame: 1 × 1\n",
       "\n",
       "| <!----> &lt;int&gt; |\n",
       "|---|\n",
       "| 810 |\n",
       "\n"
      ],
      "text/plain": [
       "     \n",
       "1 810"
      ]
     },
     "metadata": {},
     "output_type": "display_data"
    }
   ],
   "source": [
    "# Count of securities in the S&P at some point from 2001-01-01 to 2014-12-31\n",
    "qry <-\n",
    "\"SELECT COUNT(DISTINCT permno)\n",
    " FROM dbo.CRSP_SP500_CONST\n",
    " WHERE starting_date < '2015-01-01'\n",
    " AND ending_date > '2001-01-01';\"\n",
    "\n",
    "dbGetQuery(conn, qry)"
   ]
  },
  {
   "cell_type": "code",
   "execution_count": 10,
   "metadata": {},
   "outputs": [
    {
     "data": {
      "text/html": [
       "<table>\n",
       "<caption>A data.frame: 1 × 1</caption>\n",
       "<thead>\n",
       "\t<tr><th scope=col></th></tr>\n",
       "\t<tr><th scope=col>&lt;int&gt;</th></tr>\n",
       "</thead>\n",
       "<tbody>\n",
       "\t<tr><td>259</td></tr>\n",
       "</tbody>\n",
       "</table>\n"
      ],
      "text/latex": [
       "A data.frame: 1 × 1\n",
       "\\begin{tabular}{l}\n",
       " \\\\\n",
       " <int>\\\\\n",
       "\\hline\n",
       "\t 259\\\\\n",
       "\\end{tabular}\n"
      ],
      "text/markdown": [
       "\n",
       "A data.frame: 1 × 1\n",
       "\n",
       "| <!----> &lt;int&gt; |\n",
       "|---|\n",
       "| 259 |\n",
       "\n"
      ],
      "text/plain": [
       "     \n",
       "1 259"
      ]
     },
     "metadata": {},
     "output_type": "display_data"
    }
   ],
   "source": [
    "# Count of securities that stayed in the S&P 500 during the whole period\n",
    "qry <-\n",
    "\"SELECT COUNT(DISTINCT permno)\n",
    " FROM dbo.CRSP_SP500_CONST\n",
    " WHERE starting_date <= '2001-01-01'\n",
    " AND ending_date >= '2014-12-31';\"\n",
    "\n",
    "dbGetQuery(conn, qry)"
   ]
  },
  {
   "cell_type": "markdown",
   "metadata": {},
   "source": [
    "# Relationship"
   ]
  },
  {
   "cell_type": "code",
   "execution_count": 11,
   "metadata": {},
   "outputs": [],
   "source": [
    "qry <-\n",
    "\"SELECT\n",
    "    'NEWFRC' AS [KEY],\n",
    "    CASE DATEPART(QUARTER,[date])\n",
    "        WHEN 1 THEN 'Q1'\n",
    "        WHEN 2 THEN 'Q2'\n",
    "        WHEN 3 THEN 'Q3'\n",
    "        WHEN 4 THEN 'Q4'\n",
    "    END AS [QUARTER],\n",
    "    ROW_NUMBER() OVER(PARTITION BY DATEPART(QUARTER,[date]) ORDER BY MONTH([date]), DAY([date])) AS [INDEX],\n",
    "    AVG(frac) AS [VALUE]\n",
    "FROM dbo.DATASET\n",
    "GROUP BY DATEPART(QUARTER,[date]), MONTH([date]), DAY([date])\n",
    "\n",
    "UNION ALL\n",
    "\n",
    "SELECT\n",
    "    'STKCOR_P',\n",
    "    CASE DATEPART(QUARTER,[date])\n",
    "        WHEN 1 THEN 'Q1'\n",
    "        WHEN 2 THEN 'Q2'\n",
    "        WHEN 3 THEN 'Q3'\n",
    "        WHEN 4 THEN 'Q4'\n",
    "    END,\n",
    "    ROW_NUMBER() OVER(PARTITION BY DATEPART(QUARTER,[date]) ORDER BY MONTH([date]), DAY([date])),\n",
    "    AVG(pair_1m)\n",
    "FROM dbo.DATASET\n",
    "GROUP BY DATEPART(QUARTER,[date]), MONTH([date]), DAY([date])\n",
    "\n",
    "UNION ALL\n",
    "\n",
    "SELECT\n",
    "    'STKCOR_M',\n",
    "    CASE DATEPART(QUARTER,[date])\n",
    "        WHEN 1 THEN 'Q1'\n",
    "        WHEN 2 THEN 'Q2'\n",
    "        WHEN 3 THEN 'Q3'\n",
    "        WHEN 4 THEN 'Q4'\n",
    "    END,\n",
    "    ROW_NUMBER() OVER(PARTITION BY DATEPART(QUARTER,[date]) ORDER BY MONTH([date]), DAY([date])),\n",
    "    AVG(mkt_1m)\n",
    "FROM dbo.DATASET\n",
    "GROUP BY DATEPART(QUARTER,[date]), MONTH([date]), DAY([date]);\"\n",
    "\n",
    "df <- dbGetQuery(conn, qry)"
   ]
  },
  {
   "cell_type": "code",
   "execution_count": 12,
   "metadata": {},
   "outputs": [
    {
     "data": {
      "text/html": [
       "<table>\n",
       "<caption>A data.frame: 6 × 4</caption>\n",
       "<thead>\n",
       "\t<tr><th></th><th scope=col>KEY</th><th scope=col>QUARTER</th><th scope=col>INDEX</th><th scope=col>VALUE</th></tr>\n",
       "\t<tr><th></th><th scope=col>&lt;chr&gt;</th><th scope=col>&lt;chr&gt;</th><th scope=col>&lt;int64&gt;</th><th scope=col>&lt;dbl&gt;</th></tr>\n",
       "</thead>\n",
       "<tbody>\n",
       "\t<tr><th scope=row>1</th><td>NEWFRC</td><td>Q1</td><td>1</td><td>0.15523127</td></tr>\n",
       "\t<tr><th scope=row>2</th><td>NEWFRC</td><td>Q1</td><td>2</td><td>0.11366769</td></tr>\n",
       "\t<tr><th scope=row>3</th><td>NEWFRC</td><td>Q1</td><td>3</td><td>0.11817412</td></tr>\n",
       "\t<tr><th scope=row>4</th><td>NEWFRC</td><td>Q1</td><td>4</td><td>0.10085209</td></tr>\n",
       "\t<tr><th scope=row>5</th><td>NEWFRC</td><td>Q1</td><td>5</td><td>0.12539668</td></tr>\n",
       "\t<tr><th scope=row>6</th><td>NEWFRC</td><td>Q1</td><td>6</td><td>0.09872183</td></tr>\n",
       "</tbody>\n",
       "</table>\n"
      ],
      "text/latex": [
       "A data.frame: 6 × 4\n",
       "\\begin{tabular}{r|llll}\n",
       "  & KEY & QUARTER & INDEX & VALUE\\\\\n",
       "  & <chr> & <chr> & <int64> & <dbl>\\\\\n",
       "\\hline\n",
       "\t1 & NEWFRC & Q1 & 1 & 0.15523127\\\\\n",
       "\t2 & NEWFRC & Q1 & 2 & 0.11366769\\\\\n",
       "\t3 & NEWFRC & Q1 & 3 & 0.11817412\\\\\n",
       "\t4 & NEWFRC & Q1 & 4 & 0.10085209\\\\\n",
       "\t5 & NEWFRC & Q1 & 5 & 0.12539668\\\\\n",
       "\t6 & NEWFRC & Q1 & 6 & 0.09872183\\\\\n",
       "\\end{tabular}\n"
      ],
      "text/markdown": [
       "\n",
       "A data.frame: 6 × 4\n",
       "\n",
       "| <!--/--> | KEY &lt;chr&gt; | QUARTER &lt;chr&gt; | INDEX &lt;int64&gt; | VALUE &lt;dbl&gt; |\n",
       "|---|---|---|---|---|\n",
       "| 1 | NEWFRC | Q1 | 1 | 0.15523127 |\n",
       "| 2 | NEWFRC | Q1 | 2 | 0.11366769 |\n",
       "| 3 | NEWFRC | Q1 | 3 | 0.11817412 |\n",
       "| 4 | NEWFRC | Q1 | 4 | 0.10085209 |\n",
       "| 5 | NEWFRC | Q1 | 5 | 0.12539668 |\n",
       "| 6 | NEWFRC | Q1 | 6 | 0.09872183 |\n",
       "\n"
      ],
      "text/plain": [
       "  KEY    QUARTER INDEX VALUE     \n",
       "1 NEWFRC Q1      1     0.15523127\n",
       "2 NEWFRC Q1      2     0.11366769\n",
       "3 NEWFRC Q1      3     0.11817412\n",
       "4 NEWFRC Q1      4     0.10085209\n",
       "5 NEWFRC Q1      5     0.12539668\n",
       "6 NEWFRC Q1      6     0.09872183"
      ]
     },
     "metadata": {},
     "output_type": "display_data"
    }
   ],
   "source": [
    "head(df)"
   ]
  },
  {
   "cell_type": "code",
   "execution_count": 13,
   "metadata": {},
   "outputs": [
    {
     "data": {
      "text/html": [
       "<table>\n",
       "<caption>A data.frame: 6 × 4</caption>\n",
       "<thead>\n",
       "\t<tr><th></th><th scope=col>KEY</th><th scope=col>QUARTER</th><th scope=col>INDEX</th><th scope=col>VALUE</th></tr>\n",
       "\t<tr><th></th><th scope=col>&lt;chr&gt;</th><th scope=col>&lt;chr&gt;</th><th scope=col>&lt;int64&gt;</th><th scope=col>&lt;dbl&gt;</th></tr>\n",
       "</thead>\n",
       "<tbody>\n",
       "\t<tr><th scope=row>364</th><td>STKCOR_P</td><td>Q1</td><td>1</td><td>0.1720836</td></tr>\n",
       "\t<tr><th scope=row>365</th><td>STKCOR_P</td><td>Q1</td><td>2</td><td>0.1456437</td></tr>\n",
       "\t<tr><th scope=row>366</th><td>STKCOR_P</td><td>Q1</td><td>3</td><td>0.1345018</td></tr>\n",
       "\t<tr><th scope=row>367</th><td>STKCOR_P</td><td>Q1</td><td>4</td><td>0.1711728</td></tr>\n",
       "\t<tr><th scope=row>368</th><td>STKCOR_P</td><td>Q1</td><td>5</td><td>0.1615778</td></tr>\n",
       "\t<tr><th scope=row>369</th><td>STKCOR_P</td><td>Q1</td><td>6</td><td>0.1441914</td></tr>\n",
       "</tbody>\n",
       "</table>\n"
      ],
      "text/latex": [
       "A data.frame: 6 × 4\n",
       "\\begin{tabular}{r|llll}\n",
       "  & KEY & QUARTER & INDEX & VALUE\\\\\n",
       "  & <chr> & <chr> & <int64> & <dbl>\\\\\n",
       "\\hline\n",
       "\t364 & STKCOR\\_P & Q1 & 1 & 0.1720836\\\\\n",
       "\t365 & STKCOR\\_P & Q1 & 2 & 0.1456437\\\\\n",
       "\t366 & STKCOR\\_P & Q1 & 3 & 0.1345018\\\\\n",
       "\t367 & STKCOR\\_P & Q1 & 4 & 0.1711728\\\\\n",
       "\t368 & STKCOR\\_P & Q1 & 5 & 0.1615778\\\\\n",
       "\t369 & STKCOR\\_P & Q1 & 6 & 0.1441914\\\\\n",
       "\\end{tabular}\n"
      ],
      "text/markdown": [
       "\n",
       "A data.frame: 6 × 4\n",
       "\n",
       "| <!--/--> | KEY &lt;chr&gt; | QUARTER &lt;chr&gt; | INDEX &lt;int64&gt; | VALUE &lt;dbl&gt; |\n",
       "|---|---|---|---|---|\n",
       "| 364 | STKCOR_P | Q1 | 1 | 0.1720836 |\n",
       "| 365 | STKCOR_P | Q1 | 2 | 0.1456437 |\n",
       "| 366 | STKCOR_P | Q1 | 3 | 0.1345018 |\n",
       "| 367 | STKCOR_P | Q1 | 4 | 0.1711728 |\n",
       "| 368 | STKCOR_P | Q1 | 5 | 0.1615778 |\n",
       "| 369 | STKCOR_P | Q1 | 6 | 0.1441914 |\n",
       "\n"
      ],
      "text/plain": [
       "    KEY      QUARTER INDEX VALUE    \n",
       "364 STKCOR_P Q1      1     0.1720836\n",
       "365 STKCOR_P Q1      2     0.1456437\n",
       "366 STKCOR_P Q1      3     0.1345018\n",
       "367 STKCOR_P Q1      4     0.1711728\n",
       "368 STKCOR_P Q1      5     0.1615778\n",
       "369 STKCOR_P Q1      6     0.1441914"
      ]
     },
     "metadata": {},
     "output_type": "display_data"
    }
   ],
   "source": [
    "head(df[df$KEY!=\"NEWFRC\",])"
   ]
  },
  {
   "cell_type": "code",
   "execution_count": 14,
   "metadata": {},
   "outputs": [
    {
     "data": {
      "image/png": "[encoded data removed]",
      "text/plain": [
       "plot without title"
      ]
     },
     "metadata": {
      "image/png": {
       "height": 288,
       "width": 720
      },
      "text/plain": {
       "height": 288,
       "width": 720
      }
     },
     "output_type": "display_data"
    },
    {
     "data": {
      "image/png": "[encoded data removed]",
      "text/plain": [
       "plot without title"
      ]
     },
     "metadata": {
      "image/png": {
       "height": 288,
       "width": 720
      },
      "text/plain": {
       "height": 288,
       "width": 720
      }
     },
     "output_type": "display_data"
    },
    {
     "data": {
      "image/png": "[encoded data removed]",
      "text/plain": [
       "plot without title"
      ]
     },
     "metadata": {
      "image/png": {
       "height": 288,
       "width": 720
      },
      "text/plain": {
       "height": 288,
       "width": 720
      }
     },
     "output_type": "display_data"
    },
    {
     "data": {
      "image/png": "[encoded data removed]",
      "text/plain": [
       "plot without title"
      ]
     },
     "metadata": {
      "image/png": {
       "height": 288,
       "width": 720
      },
      "text/plain": {
       "height": 288,
       "width": 720
      }
     },
     "output_type": "display_data"
    }
   ],
   "source": [
    "d_NEWFRC <- df[df$KEY==\"NEWFRC\",]\n",
    "d_OTHER <- df[df$KEY!=\"NEWFRC\",]\n",
    "d_NEWFRC_rescale <- within(d_NEWFRC, {VALUE = VALUE*2})\n",
    "df_2 <- rbind(d_OTHER, d_NEWFRC_rescale)\n",
    "\n",
    "ggplot(df_2[df_2$QUARTER==\"Q1\",], aes(x=as.numeric(INDEX), y=VALUE, col=KEY)) +\n",
    "    geom_line(size=1) +\n",
    "    scale_y_continuous(sec.axis = sec_axis(~ . * 2, name=\"Fraction\")) +\n",
    "    labs(x=\"Days in Quarter\", y=\"Correlation\", title=\"\", subtitle=\"\") +\n",
    "    theme_bw() +\n",
    "    theme(legend.position='none')\n",
    "\n",
    "ggplot(df_2[df_2$QUARTER==\"Q2\",], aes(x=as.numeric(INDEX), y=VALUE, col=KEY)) +\n",
    "    geom_line(size=1) +\n",
    "    scale_y_continuous(sec.axis = sec_axis(~ . * 2, name=\"Fraction\")) +\n",
    "    #facet_grid(rows = vars(QUARTER)) +\n",
    "    labs(x=\"Days in Quarter\", y=\"Correlation\", title=\"\", subtitle=\"\") +\n",
    "    theme_bw() +\n",
    "    theme(legend.position='none')\n",
    "\n",
    "ggplot(df_2[df_2$QUARTER==\"Q3\",], aes(x=as.numeric(INDEX), y=VALUE, col=KEY)) +\n",
    "    geom_line(size=1) +\n",
    "    scale_y_continuous(sec.axis = sec_axis(~ . * 2, name=\"Fraction\")) +\n",
    "    #facet_grid(rows = vars(QUARTER)) +\n",
    "    labs(x=\"Days in Quarter\", y=\"Correlation\", title=\"\", subtitle=\"\") +\n",
    "    theme_bw() +\n",
    "    theme(legend.position='none')\n",
    "\n",
    "ggplot(df_2[df_2$QUARTER==\"Q4\",], aes(x=as.numeric(INDEX), y=VALUE, col=KEY)) +\n",
    "    geom_line(size=1) +\n",
    "    scale_y_continuous(sec.axis = sec_axis(~ . * 2, name=\"Fraction\")) +\n",
    "    #facet_grid(rows = vars(QUARTER)) +\n",
    "    labs(x=\"Days in Quarter\", y=\"Correlation\", title=\"\", subtitle=\"\") +\n",
    "    theme_bw() +\n",
    "    #theme(legend.position='none')\n",
    "    theme(legend.position=\"bottom\", legend.title = element_blank(), legend.key.size = unit(2, \"cm\"), legend.text=element_text(size=15))\n",
    "\n",
    "\n",
    "rm(df_2)"
   ]
  }
 ],
 "metadata": {
  "kernelspec": {
   "display_name": "R",
   "language": "R",
   "name": "ir"
  },
  "language_info": {
   "codemirror_mode": "r",
   "file_extension": ".r",
   "mimetype": "text/x-r-source",
   "name": "R",
   "pygments_lexer": "r",
   "version": "3.6.3"
  }
 },
 "nbformat": 4,
 "nbformat_minor": 4
}
