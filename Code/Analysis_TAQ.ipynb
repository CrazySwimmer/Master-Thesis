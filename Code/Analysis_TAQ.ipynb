{
 "cells": [
  {
   "cell_type": "code",
   "execution_count": 2,
   "metadata": {},
   "outputs": [],
   "source": [
    "library(xts)\n",
    "library(tidyr)\n",
    "library(DBI)\n",
    "conn <- dbConnect(odbc::odbc(), \"JupyterLab\", timeout = 10)"
   ]
  },
  {
   "cell_type": "markdown",
   "metadata": {},
   "source": [
    "---\n",
    "# 1. Daily intraday correlations from TAQ data\n",
    "\n",
    "We compute intraday pairwise correlations as\n",
    "$$\n",
    "\\rho^{ij}_t = \\frac{COV(r_t^i,r_t^j)}{SD(r_t^i)SD(r_t^j)},\n",
    "$$\n",
    "\n",
    "where $r_i$ are the intraday returns of stock $i$ with frequency $m$ (not written, tbd 1 to 15 minutes), $\\rho_t^{ij}$ is the intraday pairwise correlation of stocks $i$ and $j$.\n",
    "\n",
    "We can then compute\n",
    "$$\n",
    "\\bar{\\rho}_t = \\frac{1}{N(N-1)} \\sum_{i,j}^{N} \\rho^{ij}_t, \\; \\; \\;\n",
    "\\forall i\\ne j,\n",
    "$$\n",
    "\n",
    "where $\\bar{\\rho}_t$ is the mean of pairwise correlations on day $t$. We exclude correlations of stocks with themselves and therefore the sum gets divided by $N(N-1)$. The reason for doing so is that adding 500 correlations of 1 would bias the average towards 1."
   ]
  },
  {
   "cell_type": "code",
   "execution_count": 3,
   "metadata": {},
   "outputs": [],
   "source": [
    "# Get time index of returns\n",
    "qry <- \"SELECT DISTINCT CONVERT(date,[DATE]) AS [DATE] FROM dbo.TAQ ORDER BY [DATE];\"\n",
    "\n",
    "dbGetQuery(conn, qry) %>%\n",
    "    .$DATE -> date_index\n",
    "\n",
    "# Housekeeping\n",
    "rm(qry)"
   ]
  },
  {
   "cell_type": "code",
   "execution_count": 4,
   "metadata": {},
   "outputs": [],
   "source": [
    "tmp_avg_corr <- matrix(nrow=0, ncol=2)\n",
    "\n",
    "for (i in 1:length(date_index)) {\n",
    "    \n",
    "    # Build query\n",
    "    part_qry_1 <- \"SELECT SYMBOL, [DATE], PRICE FROM dbo.TAQ WHERE [DATE] < '\"\n",
    "    part_qry_2 <- \"' AND [DATE] >= '\"\n",
    "    part_qry_3 <- \"';\"\n",
    "    \n",
    "    qry <- paste0(part_qry_1,\n",
    "                  date_index[i] + 1,\n",
    "                  part_qry_2,\n",
    "                  date_index[i],\n",
    "                  part_qry_3)\n",
    "    \n",
    "    # Get query result\n",
    "    dbGetQuery(conn, qry) %>%\n",
    "        pivot_wider(names_from = SYMBOL, values_from = PRICE) -> df\n",
    "    \n",
    "    # Convert to xts and replace NAs by last observation\n",
    "    as.xts(df[,-1], order.by=df$DATE) %>%\n",
    "        na.locf %>%\n",
    "        .[endpoints(., on=\"minutes\", k=5),] -> price\n",
    "    \n",
    "    # Compute returns and pair-wise correlations\n",
    "    ret <- price / lag(price, k=1, na.pad=FALSE) - 1\n",
    "    corr <- cor(ret, use=\"complete.obs\", method=\"pearson\")\n",
    "    \n",
    "    # Take mean of daily correlations\n",
    "    diag(corr) <- NA \n",
    "    tmp_avg_corr <- rbind(tmp_avg_corr,\n",
    "                          c(date_index[i], mean(corr, na.rm=TRUE)))\n",
    "}\n",
    "\n",
    "# Build xts object\n",
    "avg_corr <- xts(tmp_avg_corr[,2],\n",
    "                 order.by = as.Date(tmp_avg_corr[,1]))\n",
    "names(avg_corr) <- \"Avg.Corr\"\n",
    "\n",
    "# Housekeeping\n",
    "rm(corr, price, ret, date_index, df, i, part_qry_1, part_qry_2, part_qry_3, qry, tmp_avg_corr)"
   ]
  },
  {
   "cell_type": "code",
   "execution_count": null,
   "metadata": {},
   "outputs": [],
   "source": [
    "# Plan to store series of correlations back in the DB to save time on subsequent executions !"
   ]
  },
  {
   "cell_type": "code",
   "execution_count": 6,
   "metadata": {},
   "outputs": [
    {
     "data": {
      "text/plain": [
       "     Index               Avg.Corr      \n",
       " Min.   :2001-01-02   Min.   :0.01846  \n",
       " 1st Qu.:2001-04-01   1st Qu.:0.06981  \n",
       " Median :2001-06-28   Median :0.09095  \n",
       " Mean   :2001-06-30   Mean   :0.09577  \n",
       " 3rd Qu.:2001-10-02   3rd Qu.:0.12013  \n",
       " Max.   :2001-12-31   Max.   :0.20163  "
      ]
     },
     "metadata": {},
     "output_type": "display_data"
    },
    {
     "data": {
      "text/plain": [
       "             Avg.Corr\n",
       "2001-01-02 0.05046763\n",
       "2001-01-03 0.15518342\n",
       "2001-01-04 0.04090213\n",
       "2001-01-05 0.04667617\n",
       "2001-01-08 0.05841527\n",
       "2001-01-09 0.04902957"
      ]
     },
     "metadata": {},
     "output_type": "display_data"
    },
    {
     "data": {
      "text/plain": [
       "             Avg.Corr\n",
       "2001-12-21 0.03745145\n",
       "2001-12-24 0.02979356\n",
       "2001-12-26 0.09117936\n",
       "2001-12-27 0.05246944\n",
       "2001-12-28 0.08130422\n",
       "2001-12-31 0.09751247"
      ]
     },
     "metadata": {},
     "output_type": "display_data"
    },
    {
     "data": {
      "image/png": "[encoded data removed]",
      "text/plain": [
       "Plot with title \"Avgerage Intraday Correlation\""
      ]
     },
     "metadata": {
      "image/png": {
       "height": 420,
       "width": 420
      },
      "text/plain": {
       "height": 420,
       "width": 420
      }
     },
     "output_type": "display_data"
    }
   ],
   "source": [
    "summary(avg_corr)\n",
    "head(avg_corr)\n",
    "tail(avg_corr)\n",
    "hist(avg_corr, freq=F, main=\"Avgerage Intraday Correlation\", xlab=\"Correlation\")"
   ]
  },
  {
   "cell_type": "markdown",
   "metadata": {},
   "source": [
    "---\n",
    "# 2. RPNA story count\n",
    "\n",
    "In this section, we build 4 time series of story count per day:\n",
    "- total_count\n",
    "- macro_count - stories containing no mention of any company\n",
    "- comp_count - stories containing only mentions of companies\n",
    "- mix_count - stories containg both mentions"
   ]
  },
  {
   "cell_type": "code",
   "execution_count": 7,
   "metadata": {},
   "outputs": [
    {
     "data": {
      "text/html": [
       "<table>\n",
       "<caption>A data.frame: 5 × 3</caption>\n",
       "<thead>\n",
       "\t<tr><th scope=col>ENTITY_TYPE</th><th scope=col>NO_STORIES</th><th scope=col>FRAC_STORIES</th></tr>\n",
       "\t<tr><th scope=col>&lt;chr&gt;</th><th scope=col>&lt;int&gt;</th><th scope=col>&lt;dbl&gt;</th></tr>\n",
       "</thead>\n",
       "<tbody>\n",
       "\t<tr><td>COMP</td><td>678952</td><td>80.3282451</td></tr>\n",
       "\t<tr><td>ORGA</td><td>416262</td><td>49.2488364</td></tr>\n",
       "\t<tr><td>CMDT</td><td>125606</td><td>14.8607112</td></tr>\n",
       "\t<tr><td>PLCE</td><td> 10517</td><td> 1.2442885</td></tr>\n",
       "\t<tr><td>CURR</td><td>  1286</td><td> 0.1521494</td></tr>\n",
       "</tbody>\n",
       "</table>\n"
      ],
      "text/latex": [
       "A data.frame: 5 × 3\n",
       "\\begin{tabular}{lll}\n",
       " ENTITY\\_TYPE & NO\\_STORIES & FRAC\\_STORIES\\\\\n",
       " <chr> & <int> & <dbl>\\\\\n",
       "\\hline\n",
       "\t COMP & 678952 & 80.3282451\\\\\n",
       "\t ORGA & 416262 & 49.2488364\\\\\n",
       "\t CMDT & 125606 & 14.8607112\\\\\n",
       "\t PLCE &  10517 &  1.2442885\\\\\n",
       "\t CURR &   1286 &  0.1521494\\\\\n",
       "\\end{tabular}\n"
      ],
      "text/markdown": [
       "\n",
       "A data.frame: 5 × 3\n",
       "\n",
       "| ENTITY_TYPE &lt;chr&gt; | NO_STORIES &lt;int&gt; | FRAC_STORIES &lt;dbl&gt; |\n",
       "|---|---|---|\n",
       "| COMP | 678952 | 80.3282451 |\n",
       "| ORGA | 416262 | 49.2488364 |\n",
       "| CMDT | 125606 | 14.8607112 |\n",
       "| PLCE |  10517 |  1.2442885 |\n",
       "| CURR |   1286 |  0.1521494 |\n",
       "\n"
      ],
      "text/plain": [
       "  ENTITY_TYPE NO_STORIES FRAC_STORIES\n",
       "1 COMP        678952     80.3282451  \n",
       "2 ORGA        416262     49.2488364  \n",
       "3 CMDT        125606     14.8607112  \n",
       "4 PLCE         10517      1.2442885  \n",
       "5 CURR          1286      0.1521494  "
      ]
     },
     "metadata": {},
     "output_type": "display_data"
    }
   ],
   "source": [
    "qry <-\n",
    "\"SELECT\n",
    "    ENTITY_TYPE,\n",
    "    COUNT(DISTINCT RP_STORY_ID) AS NO_STORIES,\n",
    "    100.0 * COUNT(DISTINCT RP_STORY_ID) / (SELECT COUNT(DISTINCT RP_STORY_ID) FROM dbo.RPNA_WSJ) AS FRAC_STORIES\n",
    "FROM dbo.RPNA_WSJ\n",
    "GROUP BY ENTITY_TYPE\n",
    "ORDER BY NO_STORIES DESC;\"\n",
    "\n",
    "dbGetQuery(conn, qry)"
   ]
  },
  {
   "cell_type": "code",
   "execution_count": 8,
   "metadata": {},
   "outputs": [
    {
     "data": {
      "text/html": [
       "<table>\n",
       "<caption>A data.frame: 3 × 3</caption>\n",
       "<thead>\n",
       "\t<tr><th scope=col>TYPE</th><th scope=col>NO_STORIES</th><th scope=col>FRAC_STORIES</th></tr>\n",
       "\t<tr><th scope=col>&lt;chr&gt;</th><th scope=col>&lt;int&gt;</th><th scope=col>&lt;dbl&gt;</th></tr>\n",
       "</thead>\n",
       "<tbody>\n",
       "\t<tr><td>Only companies mentioned</td><td>371901</td><td>44.00039</td></tr>\n",
       "\t<tr><td>Both mentioned          </td><td>307051</td><td>36.32785</td></tr>\n",
       "\t<tr><td>No companies mentioned  </td><td>166270</td><td>19.67175</td></tr>\n",
       "</tbody>\n",
       "</table>\n"
      ],
      "text/latex": [
       "A data.frame: 3 × 3\n",
       "\\begin{tabular}{lll}\n",
       " TYPE & NO\\_STORIES & FRAC\\_STORIES\\\\\n",
       " <chr> & <int> & <dbl>\\\\\n",
       "\\hline\n",
       "\t Only companies mentioned & 371901 & 44.00039\\\\\n",
       "\t Both mentioned           & 307051 & 36.32785\\\\\n",
       "\t No companies mentioned   & 166270 & 19.67175\\\\\n",
       "\\end{tabular}\n"
      ],
      "text/markdown": [
       "\n",
       "A data.frame: 3 × 3\n",
       "\n",
       "| TYPE &lt;chr&gt; | NO_STORIES &lt;int&gt; | FRAC_STORIES &lt;dbl&gt; |\n",
       "|---|---|---|\n",
       "| Only companies mentioned | 371901 | 44.00039 |\n",
       "| Both mentioned           | 307051 | 36.32785 |\n",
       "| No companies mentioned   | 166270 | 19.67175 |\n",
       "\n"
      ],
      "text/plain": [
       "  TYPE                     NO_STORIES FRAC_STORIES\n",
       "1 Only companies mentioned 371901     44.00039    \n",
       "2 Both mentioned           307051     36.32785    \n",
       "3 No companies mentioned   166270     19.67175    "
      ]
     },
     "metadata": {},
     "output_type": "display_data"
    }
   ],
   "source": [
    "qry <-\n",
    "\"WITH\n",
    " not_comp AS\n",
    " (\n",
    "    SELECT RP_STORY_ID\n",
    "    FROM dbo.RPNA_WSJ\n",
    "    WHERE ENTITY_TYPE<>'COMP'\n",
    " ),\n",
    " only_comp AS\n",
    " (\n",
    "    SELECT RP_STORY_ID\n",
    "    FROM dbo.RPNA_WSJ\n",
    "    WHERE ENTITY_TYPE='COMP'\n",
    " )\n",
    "\n",
    " SELECT\n",
    "    t.[TYPE],\n",
    "    t.NO_STORIES,\n",
    "    100.0 * t.NO_STORIES / SUM(NO_STORIES) OVER() AS FRAC_STORIES\n",
    " FROM (\n",
    "    SELECT\n",
    "        'Only companies mentioned' AS [TYPE],\n",
    "        COUNT(DISTINCT RP_STORY_ID) AS [NO_STORIES]\n",
    "    FROM dbo.RPNA_WSJ\n",
    "    WHERE RP_STORY_ID NOT IN (SELECT * FROM not_comp)\n",
    "\n",
    "    UNION ALL\n",
    "\n",
    "    SELECT\n",
    "        'No companies mentioned',\n",
    "        COUNT(DISTINCT RP_STORY_ID)\n",
    "    FROM dbo.RPNA_WSJ\n",
    "    WHERE RP_STORY_ID NOT IN (SELECT * FROM only_comp)\n",
    "\n",
    "    UNION ALL\n",
    "\n",
    "    SELECT\n",
    "        'Both mentioned',\n",
    "        COUNT(DISTINCT RP_STORY_ID)\n",
    "    FROM dbo.RPNA_WSJ\n",
    "    WHERE RP_STORY_ID IN (SELECT * FROM not_comp)\n",
    "      AND RP_STORY_ID IN (SELECT * FROM only_comp)\n",
    " ) t\n",
    " ORDER BY FRAC_STORIES DESC;\"\n",
    "\n",
    "dbGetQuery(conn, qry)"
   ]
  },
  {
   "cell_type": "code",
   "execution_count": 9,
   "metadata": {},
   "outputs": [
    {
     "data": {
      "text/plain": [
       "           total_count\n",
       "2001-01-01          94\n",
       "2001-01-02           1\n",
       "2001-01-03          89\n",
       "2001-01-04         115\n",
       "2001-01-05          36\n",
       "2001-01-07          95"
      ]
     },
     "metadata": {},
     "output_type": "display_data"
    }
   ],
   "source": [
    "# Get count of total stories per day\n",
    "qry <-\n",
    "\"DECLARE @time_shift int = 0;\n",
    "\n",
    " SELECT\n",
    "    CAST(DATEADD(HOUR, @time_shift, TIMESTAMP_EST) AS date) AS [DATE],\n",
    "    COUNT(DISTINCT RP_STORY_ID) AS total_count\n",
    " FROM dbo.RPNA_WSJ\n",
    " GROUP BY CAST(DATEADD(HOUR, @time_shift, TIMESTAMP_EST) AS date)\n",
    " ORDER BY [date];\"\n",
    "df <- dbGetQuery(conn, qry)\n",
    "total_count <- xts(df[,2], order.by=df$DATE) # No need to set time zone as everything is done in SQL and we only work with dates in R.\n",
    "names(total_count) <- names(df)[2]\n",
    "head(total_count)"
   ]
  },
  {
   "cell_type": "code",
   "execution_count": 10,
   "metadata": {},
   "outputs": [
    {
     "data": {
      "text/plain": [
       "           macro_count\n",
       "2001-01-01           9\n",
       "2001-01-03          11\n",
       "2001-01-04          15\n",
       "2001-01-05           4\n",
       "2001-01-07          15\n",
       "2001-01-08          16"
      ]
     },
     "metadata": {},
     "output_type": "display_data"
    }
   ],
   "source": [
    "# Get count of non-company stories per day\n",
    "qry <-\n",
    "\"DECLARE @time_shift int = 0;\n",
    "\n",
    " SELECT\n",
    "    CAST(DATEADD(HOUR, @time_shift, TIMESTAMP_EST) AS date) AS [DATE],\n",
    "    COUNT(DISTINCT RP_STORY_ID) AS macro_count\n",
    " FROM dbo.RPNA_WSJ\n",
    " WHERE RP_STORY_ID NOT IN (\n",
    "    SELECT RP_STORY_ID\n",
    "    FROM dbo.RPNA_WSJ\n",
    "    WHERE ENTITY_TYPE='COMP'\n",
    " )\n",
    " GROUP BY CAST(DATEADD(HOUR, @time_shift, TIMESTAMP_EST) AS date)\n",
    " ORDER BY [date];\"\n",
    "df <- dbGetQuery(conn, qry)\n",
    "macro_count <- xts(df[,2], order.by=df$DATE) # No need to set time zone as everything is done in SQL and we only work with dates in R.\n",
    "names(macro_count) <- names(df)[2]\n",
    "head(macro_count)"
   ]
  },
  {
   "cell_type": "code",
   "execution_count": 11,
   "metadata": {},
   "outputs": [
    {
     "data": {
      "text/plain": [
       "           comp_count\n",
       "2001-01-01         49\n",
       "2001-01-03         40\n",
       "2001-01-04         49\n",
       "2001-01-05         18\n",
       "2001-01-07         46\n",
       "2001-01-08         62"
      ]
     },
     "metadata": {},
     "output_type": "display_data"
    }
   ],
   "source": [
    "# Get count of companies-only stories per day\n",
    "qry <-\n",
    "\"DECLARE @time_shift int = 0;\n",
    "\n",
    " SELECT\n",
    "    CAST(DATEADD(HOUR, @time_shift, TIMESTAMP_EST) AS date) AS [DATE],\n",
    "    COUNT(DISTINCT RP_STORY_ID) AS comp_count\n",
    " FROM dbo.RPNA_WSJ\n",
    " WHERE RP_STORY_ID NOT IN (\n",
    "    SELECT RP_STORY_ID\n",
    "    FROM dbo.RPNA_WSJ\n",
    "    WHERE ENTITY_TYPE<>'COMP'\n",
    " )\n",
    " GROUP BY CAST(DATEADD(HOUR, @time_shift, TIMESTAMP_EST) AS date)\n",
    " ORDER BY [date];\"\n",
    "df <- dbGetQuery(conn, qry)\n",
    "comp_count <- xts(df[,2], order.by=df$DATE) # No need to set time zone as everything is done in SQL and we only work with dates in R.\n",
    "names(comp_count) <- names(df)[2]\n",
    "head(comp_count)"
   ]
  },
  {
   "cell_type": "code",
   "execution_count": 12,
   "metadata": {},
   "outputs": [
    {
     "data": {
      "text/plain": [
       "           total_count macro_count comp_count mix_count\n",
       "2001-01-01          94           9         49        36\n",
       "2001-01-02           1           0          0         1\n",
       "2001-01-03          89          11         40        38\n",
       "2001-01-04         115          15         49        51\n",
       "2001-01-05          36           4         18        14\n",
       "2001-01-07          95          15         46        34"
      ]
     },
     "metadata": {},
     "output_type": "display_data"
    }
   ],
   "source": [
    "# Merge counts\n",
    "news <- merge(total_count, macro_count, fill=0, join=\"outer\")\n",
    "news <- merge(news, comp_count, fill=0, join=\"outer\")\n",
    "\n",
    "# Mix_count contains stories that include both companies and non-company entities\n",
    "news$mix_count <- news$total_count - (news$macro_count + news$comp_count)\n",
    "head(news)\n",
    "\n",
    "# Housekeeping\n",
    "rm(total_count, macro_count, comp_count, df)"
   ]
  },
  {
   "cell_type": "markdown",
   "metadata": {},
   "source": [
    "---\n",
    "\n",
    "# 3. Analysis\n",
    "\n",
    "From section 1, we have the daily average correlations $\\bar{\\rho}_t$. This is our dependent variable. From section 2, we get four time series of story counts:\n",
    "\n",
    "- total_count\n",
    "- macro_count - stories containing no mention of any company\n",
    "- comp_count - stories containing only mentions of companies\n",
    "- mix_count - stories containg both mentions\n",
    "\n",
    "that we use to build a daily ratio of macro news to total news in the following way\n",
    "\n",
    "$$\n",
    "R_t = \\frac{NE_t}{NE_t + E_t},\n",
    "$$\n",
    "\n",
    "where $NE_t$ is the count of macro (non-equity) news and $E_t$ is the count of equity news on day $t$.\n",
    "\n",
    "We would then estimate the regression equation\n",
    "$$\n",
    "\\bar{\\rho}_t = \\alpha + \\beta_0 L^0(R_t) + \\beta_1 L^1(R_t) + \\dots + \\beta_k L^k(R_t) + \\epsilon_t,\n",
    "$$\n",
    "where $L^k$ is the lag operator."
   ]
  },
  {
   "cell_type": "code",
   "execution_count": 17,
   "metadata": {},
   "outputs": [
    {
     "data": {
      "text/plain": [
       "             Avg.Corr total_count macro_count comp_count mix_count     ratio\n",
       "2001-01-02 0.05046763           1           0          0         1 0.0000000\n",
       "2001-01-03 0.15518342          89          11         40        38 0.1235955\n",
       "2001-01-04 0.04090213         115          15         49        51 0.1304348\n",
       "2001-01-05 0.04667617          36           4         18        14 0.1111111\n",
       "2001-01-08 0.05841527         149          16         62        71 0.1073826\n",
       "2001-01-09 0.04902957         118          14         67        37 0.1186441"
      ]
     },
     "metadata": {},
     "output_type": "display_data"
    },
    {
     "data": {
      "text/plain": [
       "             Avg.Corr total_count macro_count comp_count mix_count     ratio\n",
       "2001-12-20 0.07582562         150          30         67        53 0.2000000\n",
       "2001-12-21 0.03745145          38           7         16        15 0.1842105\n",
       "2001-12-26 0.09117936          84          16         41        27 0.1904762\n",
       "2001-12-27 0.05246944         103          20         41        42 0.1941748\n",
       "2001-12-28 0.08130422          38           5         17        16 0.1315789\n",
       "2001-12-31 0.09751247          18           9          3         6 0.5000000"
      ]
     },
     "metadata": {},
     "output_type": "display_data"
    },
    {
     "data": {
      "text/plain": [
       "\n",
       "Call:\n",
       "lm(formula = d$Avg.Corr ~ lag(d$ratio, k = 0))\n",
       "\n",
       "Residuals:\n",
       "      Min        1Q    Median        3Q       Max \n",
       "-0.072753 -0.026456 -0.004385  0.023547  0.103443 \n",
       "\n",
       "Coefficients:\n",
       "                    Estimate Std. Error t value Pr(>|t|)    \n",
       "(Intercept)         0.075029   0.007572   9.909  < 2e-16 ***\n",
       "lag(d$ratio, k = 0) 0.130525   0.044602   2.926  0.00375 ** \n",
       "---\n",
       "Signif. codes:  0 '***' 0.001 '**' 0.01 '*' 0.05 '.' 0.1 ' ' 1\n",
       "\n",
       "Residual standard error: 0.03791 on 245 degrees of freedom\n",
       "Multiple R-squared:  0.03378,\tAdjusted R-squared:  0.02983 \n",
       "F-statistic: 8.564 on 1 and 245 DF,  p-value: 0.003751\n"
      ]
     },
     "metadata": {},
     "output_type": "display_data"
    }
   ],
   "source": [
    "# Merge datasets\n",
    "# (How should we lag the news?)\n",
    "d <- merge(avg_corr, news, join=\"inner\")\n",
    "\n",
    "# Prepare data\n",
    "# (tbd which ratio makes more sense)\n",
    "#ratio <- (d$macro_count + d$mix_count) / d$total_count\n",
    "ratio <- d$macro_count / d$total_count\n",
    "names(ratio) <- \"ratio\"\n",
    "d <- merge(d, ratio, join=\"inner\")\n",
    "head(d)\n",
    "tail(d)\n",
    "\n",
    "# Estimate model\n",
    "fit <- lm(d$Avg.Corr ~ lag(d$ratio, k=0))\n",
    "summary(fit)"
   ]
  },
  {
   "cell_type": "markdown",
   "metadata": {},
   "source": [
    "## Results\n",
    "\n",
    "Need to add more data before having a look at the results. Currently only 6 months in 2001."
   ]
  },
  {
   "cell_type": "markdown",
   "metadata": {},
   "source": [
    "---\n",
    "# 4. To-Do's\n",
    "- Normalize intraday returns by market beta? If yes, use unconditional betas.\n",
    "- Decide whether to define macro news as no equity or no equity + both.\n",
    "- Instead of raw ratio of story count, try to weight count by news sentiment or novelty\n",
    "- Improve story count based on market opening time\n",
    "- Include weekend news in Monday count?"
   ]
  }
 ],
 "metadata": {
  "kernelspec": {
   "display_name": "R",
   "language": "R",
   "name": "ir"
  },
  "language_info": {
   "codemirror_mode": "r",
   "file_extension": ".r",
   "mimetype": "text/x-r-source",
   "name": "R",
   "pygments_lexer": "r",
   "version": "3.6.3"
  }
 },
 "nbformat": 4,
 "nbformat_minor": 4
}
