{
 "cells": [
  {
   "cell_type": "markdown",
   "metadata": {},
   "source": [
    "# Analysis"
   ]
  },
  {
   "cell_type": "code",
   "execution_count": 1,
   "metadata": {},
   "outputs": [
    {
     "name": "stderr",
     "output_type": "stream",
     "text": [
      "Loading required package: zoo\n",
      "\n",
      "\n",
      "Attaching package: 'zoo'\n",
      "\n",
      "\n",
      "The following objects are masked from 'package:base':\n",
      "\n",
      "    as.Date, as.Date.numeric\n",
      "\n",
      "\n"
     ]
    }
   ],
   "source": [
    "library(xts)\n",
    "library(DBI)\n",
    "con <- dbConnect(odbc::odbc(), \"JupyterLab\", timeout = 10)"
   ]
  },
  {
   "cell_type": "markdown",
   "metadata": {},
   "source": [
    "## RPNA story count\n",
    "\n",
    "In this section, we build 4 time series of story count per day:\n",
    "- total_count\n",
    "- macro_count - stories containing no mention of any company\n",
    "- comp_count - stories containing only mentions of companies\n",
    "- mix_count - stories containg both mentions"
   ]
  },
  {
   "cell_type": "code",
   "execution_count": 2,
   "metadata": {},
   "outputs": [
    {
     "data": {
      "text/html": [
       "<table>\n",
       "<caption>A data.frame: 1 × 1</caption>\n",
       "<thead>\n",
       "\t<tr><th scope=col>NO_STORIES</th></tr>\n",
       "\t<tr><th scope=col>&lt;int&gt;</th></tr>\n",
       "</thead>\n",
       "<tbody>\n",
       "\t<tr><td>845222</td></tr>\n",
       "</tbody>\n",
       "</table>\n"
      ],
      "text/latex": [
       "A data.frame: 1 × 1\n",
       "\\begin{tabular}{l}\n",
       " NO\\_STORIES\\\\\n",
       " <int>\\\\\n",
       "\\hline\n",
       "\t 845222\\\\\n",
       "\\end{tabular}\n"
      ],
      "text/markdown": [
       "\n",
       "A data.frame: 1 × 1\n",
       "\n",
       "| NO_STORIES &lt;int&gt; |\n",
       "|---|\n",
       "| 845222 |\n",
       "\n"
      ],
      "text/plain": [
       "  NO_STORIES\n",
       "1 845222    "
      ]
     },
     "metadata": {},
     "output_type": "display_data"
    }
   ],
   "source": [
    "qry <-\n",
    "\"SELECT COUNT(DISTINCT RP_STORY_ID) AS NO_STORIES\n",
    " FROM dbo.RPNA_WSJ;\"\n",
    "\n",
    "dbGetQuery(con, qry)"
   ]
  },
  {
   "cell_type": "markdown",
   "metadata": {},
   "source": [
    "The Wall Street Journal published 845'222 stories from January 1, 2001 to August 31, 2019."
   ]
  },
  {
   "cell_type": "code",
   "execution_count": 3,
   "metadata": {},
   "outputs": [
    {
     "data": {
      "text/html": [
       "<table>\n",
       "<caption>A data.frame: 5 × 3</caption>\n",
       "<thead>\n",
       "\t<tr><th scope=col>ENTITY_TYPE</th><th scope=col>NO_STORIES</th><th scope=col>FRAC_STORIES</th></tr>\n",
       "\t<tr><th scope=col>&lt;chr&gt;</th><th scope=col>&lt;int&gt;</th><th scope=col>&lt;dbl&gt;</th></tr>\n",
       "</thead>\n",
       "<tbody>\n",
       "\t<tr><td>COMP</td><td>678952</td><td>80.3282451</td></tr>\n",
       "\t<tr><td>ORGA</td><td>416262</td><td>49.2488364</td></tr>\n",
       "\t<tr><td>CMDT</td><td>125606</td><td>14.8607112</td></tr>\n",
       "\t<tr><td>PLCE</td><td> 10517</td><td> 1.2442885</td></tr>\n",
       "\t<tr><td>CURR</td><td>  1286</td><td> 0.1521494</td></tr>\n",
       "</tbody>\n",
       "</table>\n"
      ],
      "text/latex": [
       "A data.frame: 5 × 3\n",
       "\\begin{tabular}{lll}\n",
       " ENTITY\\_TYPE & NO\\_STORIES & FRAC\\_STORIES\\\\\n",
       " <chr> & <int> & <dbl>\\\\\n",
       "\\hline\n",
       "\t COMP & 678952 & 80.3282451\\\\\n",
       "\t ORGA & 416262 & 49.2488364\\\\\n",
       "\t CMDT & 125606 & 14.8607112\\\\\n",
       "\t PLCE &  10517 &  1.2442885\\\\\n",
       "\t CURR &   1286 &  0.1521494\\\\\n",
       "\\end{tabular}\n"
      ],
      "text/markdown": [
       "\n",
       "A data.frame: 5 × 3\n",
       "\n",
       "| ENTITY_TYPE &lt;chr&gt; | NO_STORIES &lt;int&gt; | FRAC_STORIES &lt;dbl&gt; |\n",
       "|---|---|---|\n",
       "| COMP | 678952 | 80.3282451 |\n",
       "| ORGA | 416262 | 49.2488364 |\n",
       "| CMDT | 125606 | 14.8607112 |\n",
       "| PLCE |  10517 |  1.2442885 |\n",
       "| CURR |   1286 |  0.1521494 |\n",
       "\n"
      ],
      "text/plain": [
       "  ENTITY_TYPE NO_STORIES FRAC_STORIES\n",
       "1 COMP        678952     80.3282451  \n",
       "2 ORGA        416262     49.2488364  \n",
       "3 CMDT        125606     14.8607112  \n",
       "4 PLCE         10517      1.2442885  \n",
       "5 CURR          1286      0.1521494  "
      ]
     },
     "metadata": {},
     "output_type": "display_data"
    }
   ],
   "source": [
    "qry <-\n",
    "\"SELECT\n",
    "    ENTITY_TYPE,\n",
    "    COUNT(DISTINCT RP_STORY_ID) AS NO_STORIES,\n",
    "    100.0 * COUNT(DISTINCT RP_STORY_ID) / (SELECT COUNT(DISTINCT RP_STORY_ID) FROM dbo.RPNA_WSJ) AS FRAC_STORIES\n",
    "FROM dbo.RPNA_WSJ\n",
    "GROUP BY ENTITY_TYPE\n",
    "ORDER BY NO_STORIES DESC;\"\n",
    "\n",
    "dbGetQuery(con, qry)"
   ]
  },
  {
   "cell_type": "markdown",
   "metadata": {},
   "source": [
    "We see that 80% of the stories are related to at least one company. Also, organizations (50%) and commodities (15%) make up most of the \"macro\" content. Places (1.24%) and currencies (0.15%) are rarely covered."
   ]
  },
  {
   "cell_type": "code",
   "execution_count": 4,
   "metadata": {},
   "outputs": [
    {
     "data": {
      "text/html": [
       "<table>\n",
       "<caption>A data.frame: 3 × 3</caption>\n",
       "<thead>\n",
       "\t<tr><th scope=col>TYPE</th><th scope=col>NO_STORIES</th><th scope=col>FRAC_STORIES</th></tr>\n",
       "\t<tr><th scope=col>&lt;chr&gt;</th><th scope=col>&lt;int&gt;</th><th scope=col>&lt;dbl&gt;</th></tr>\n",
       "</thead>\n",
       "<tbody>\n",
       "\t<tr><td>Only companies mentioned</td><td>371901</td><td>44.00039</td></tr>\n",
       "\t<tr><td>Both mentioned          </td><td>307051</td><td>36.32785</td></tr>\n",
       "\t<tr><td>No companies mentioned  </td><td>166270</td><td>19.67175</td></tr>\n",
       "</tbody>\n",
       "</table>\n"
      ],
      "text/latex": [
       "A data.frame: 3 × 3\n",
       "\\begin{tabular}{lll}\n",
       " TYPE & NO\\_STORIES & FRAC\\_STORIES\\\\\n",
       " <chr> & <int> & <dbl>\\\\\n",
       "\\hline\n",
       "\t Only companies mentioned & 371901 & 44.00039\\\\\n",
       "\t Both mentioned           & 307051 & 36.32785\\\\\n",
       "\t No companies mentioned   & 166270 & 19.67175\\\\\n",
       "\\end{tabular}\n"
      ],
      "text/markdown": [
       "\n",
       "A data.frame: 3 × 3\n",
       "\n",
       "| TYPE &lt;chr&gt; | NO_STORIES &lt;int&gt; | FRAC_STORIES &lt;dbl&gt; |\n",
       "|---|---|---|\n",
       "| Only companies mentioned | 371901 | 44.00039 |\n",
       "| Both mentioned           | 307051 | 36.32785 |\n",
       "| No companies mentioned   | 166270 | 19.67175 |\n",
       "\n"
      ],
      "text/plain": [
       "  TYPE                     NO_STORIES FRAC_STORIES\n",
       "1 Only companies mentioned 371901     44.00039    \n",
       "2 Both mentioned           307051     36.32785    \n",
       "3 No companies mentioned   166270     19.67175    "
      ]
     },
     "metadata": {},
     "output_type": "display_data"
    }
   ],
   "source": [
    "qry <-\n",
    "\"WITH\n",
    " not_comp AS\n",
    " (\n",
    "    SELECT RP_STORY_ID\n",
    "    FROM dbo.RPNA_WSJ\n",
    "    WHERE ENTITY_TYPE<>'COMP'\n",
    " ),\n",
    " only_comp AS\n",
    " (\n",
    "    SELECT RP_STORY_ID\n",
    "    FROM dbo.RPNA_WSJ\n",
    "    WHERE ENTITY_TYPE='COMP'\n",
    " )\n",
    "\n",
    " SELECT\n",
    "    t.[TYPE],\n",
    "    t.NO_STORIES,\n",
    "    100.0 * t.NO_STORIES / SUM(NO_STORIES) OVER() AS FRAC_STORIES\n",
    " FROM (\n",
    "    SELECT\n",
    "        'Only companies mentioned' AS [TYPE],\n",
    "        COUNT(DISTINCT RP_STORY_ID) AS [NO_STORIES]\n",
    "    FROM dbo.RPNA_WSJ\n",
    "    WHERE RP_STORY_ID NOT IN (SELECT * FROM not_comp)\n",
    "\n",
    "    UNION ALL\n",
    "\n",
    "    SELECT\n",
    "        'No companies mentioned',\n",
    "        COUNT(DISTINCT RP_STORY_ID)\n",
    "    FROM dbo.RPNA_WSJ\n",
    "    WHERE RP_STORY_ID NOT IN (SELECT * FROM only_comp)\n",
    "\n",
    "    UNION ALL\n",
    "\n",
    "    SELECT\n",
    "        'Both mentioned',\n",
    "        COUNT(DISTINCT RP_STORY_ID)\n",
    "    FROM dbo.RPNA_WSJ\n",
    "    WHERE RP_STORY_ID IN (SELECT * FROM not_comp)\n",
    "      AND RP_STORY_ID IN (SELECT * FROM only_comp)\n",
    " ) t\n",
    " ORDER BY FRAC_STORIES DESC;\"\n",
    "\n",
    "dbGetQuery(con, qry)"
   ]
  },
  {
   "cell_type": "markdown",
   "metadata": {},
   "source": [
    "Going forward, we will define stories containing no mention of a company as \"macro\" news. All stories mentioning at least one company will be termed \"equity\" news. Hence, a more precise distinction would be between \"equity\" and \"non-equity\" news.\n",
    "\n",
    "**TBD:** Decide whether to define macro news as no equity or no equity + both."
   ]
  },
  {
   "cell_type": "code",
   "execution_count": 5,
   "metadata": {},
   "outputs": [
    {
     "data": {
      "text/plain": [
       "           total_count\n",
       "2001-01-01          95\n",
       "2001-01-03         104\n",
       "2001-01-04         136\n",
       "2001-01-07         145\n",
       "2001-01-08         124\n",
       "2001-01-09         121"
      ]
     },
     "metadata": {},
     "output_type": "display_data"
    }
   ],
   "source": [
    "# Get count of total stories per day\n",
    "qry <-\n",
    "\"DECLARE @time_shift int = -6;\n",
    "\n",
    " SELECT\n",
    "    CAST(DATEADD(HOUR, @time_shift, TIMESTAMP_EST) AS date) AS [DATE],\n",
    "    COUNT(DISTINCT RP_STORY_ID) AS total_count\n",
    " FROM dbo.RPNA_WSJ\n",
    " GROUP BY CAST(DATEADD(HOUR, @time_shift, TIMESTAMP_EST) AS date)\n",
    " ORDER BY [date];\"\n",
    "df <- dbGetQuery(con, qry)\n",
    "total_count <- xts(df[,2], order.by=df$DATE) # No need to set time zone as everything is done in SQL and we only work with dates in R.\n",
    "names(total_count) <- names(df)[2]\n",
    "head(total_count)"
   ]
  },
  {
   "cell_type": "code",
   "execution_count": 6,
   "metadata": {},
   "outputs": [
    {
     "data": {
      "text/plain": [
       "           macro_count\n",
       "2001-01-01           9\n",
       "2001-01-03          13\n",
       "2001-01-04          17\n",
       "2001-01-07          20\n",
       "2001-01-08          15\n",
       "2001-01-09          13"
      ]
     },
     "metadata": {},
     "output_type": "display_data"
    }
   ],
   "source": [
    "# Get count of non-company stories per day\n",
    "qry <-\n",
    "\"DECLARE @time_shift int = -6;\n",
    "\n",
    " SELECT\n",
    "    CAST(DATEADD(HOUR, @time_shift, TIMESTAMP_EST) AS date) AS [DATE],\n",
    "    COUNT(DISTINCT RP_STORY_ID) AS macro_count\n",
    " FROM dbo.RPNA_WSJ\n",
    " WHERE RP_STORY_ID NOT IN (\n",
    "    SELECT RP_STORY_ID\n",
    "    FROM dbo.RPNA_WSJ\n",
    "    WHERE ENTITY_TYPE='COMP'\n",
    " )\n",
    " GROUP BY CAST(DATEADD(HOUR, @time_shift, TIMESTAMP_EST) AS date)\n",
    " ORDER BY [date];\"\n",
    "df <- dbGetQuery(con, qry)\n",
    "macro_count <- xts(df[,2], order.by=df$DATE) # No need to set time zone as everything is done in SQL and we only work with dates in R.\n",
    "names(macro_count) <- names(df)[2]\n",
    "head(macro_count)"
   ]
  },
  {
   "cell_type": "code",
   "execution_count": 7,
   "metadata": {},
   "outputs": [
    {
     "data": {
      "text/plain": [
       "           comp_count\n",
       "2001-01-01         49\n",
       "2001-01-03         44\n",
       "2001-01-04         63\n",
       "2001-01-07         62\n",
       "2001-01-08         60\n",
       "2001-01-09         68"
      ]
     },
     "metadata": {},
     "output_type": "display_data"
    }
   ],
   "source": [
    "# Get count of companies-only stories per day\n",
    "qry <-\n",
    "\"DECLARE @time_shift int = -6;\n",
    "\n",
    " SELECT\n",
    "    CAST(DATEADD(HOUR, @time_shift, TIMESTAMP_EST) AS date) AS [DATE],\n",
    "    COUNT(DISTINCT RP_STORY_ID) AS comp_count\n",
    " FROM dbo.RPNA_WSJ\n",
    " WHERE RP_STORY_ID NOT IN (\n",
    "    SELECT RP_STORY_ID\n",
    "    FROM dbo.RPNA_WSJ\n",
    "    WHERE ENTITY_TYPE<>'COMP'\n",
    " )\n",
    " GROUP BY CAST(DATEADD(HOUR, @time_shift, TIMESTAMP_EST) AS date)\n",
    " ORDER BY [date];\"\n",
    "df <- dbGetQuery(con, qry)\n",
    "comp_count <- xts(df[,2], order.by=df$DATE) # No need to set time zone as everything is done in SQL and we only work with dates in R.\n",
    "names(comp_count) <- names(df)[2]\n",
    "head(comp_count)"
   ]
  },
  {
   "cell_type": "code",
   "execution_count": 8,
   "metadata": {},
   "outputs": [
    {
     "data": {
      "text/plain": [
       "           total_count macro_count comp_count mix_count\n",
       "2001-01-01          95           9         49        37\n",
       "2001-01-03         104          13         44        47\n",
       "2001-01-04         136          17         63        56\n",
       "2001-01-07         145          20         62        63\n",
       "2001-01-08         124          15         60        49\n",
       "2001-01-09         121          13         68        40"
      ]
     },
     "metadata": {},
     "output_type": "display_data"
    }
   ],
   "source": [
    "# Merge counts\n",
    "news <- merge(total_count, macro_count, fill=0, join=\"outer\")\n",
    "news <- merge(news, comp_count, fill=0, join=\"outer\")\n",
    "\n",
    "# Mix_count contains stories that include both companies and non-company entities\n",
    "news$mix_count <- news$total_count - (news$macro_count + news$comp_count)\n",
    "head(news)\n",
    "\n",
    "# Housekeeping\n",
    "rm(total_count, macro_count, comp_count, df)"
   ]
  },
  {
   "cell_type": "code",
   "execution_count": 9,
   "metadata": {},
   "outputs": [
    {
     "name": "stdout",
     "output_type": "stream",
     "text": [
      "An 'xts' object on 2001-01-01/2019-08-30 containing:\n",
      "  Data: int [1:6373, 1:4] 95 104 136 145 124 121 125 144 1 127 ...\n",
      " - attr(*, \"dimnames\")=List of 2\n",
      "  ..$ : NULL\n",
      "  ..$ : chr [1:4] \"total_count\" \"macro_count\" \"comp_count\" \"mix_count\"\n",
      "  Indexed by objects of class: [Date] TZ: UTC\n",
      "  xts Attributes:  \n",
      " NULL\n"
     ]
    },
    {
     "data": {
      "text/plain": [
       "           total_count macro_count comp_count mix_count\n",
       "2001-01-01          95           9         49        37\n",
       "2001-01-03         104          13         44        47\n",
       "2001-01-04         136          17         63        56\n",
       "2001-01-07         145          20         62        63\n",
       "2001-01-08         124          15         60        49\n",
       "2001-01-09         121          13         68        40\n",
       "2001-01-10         125          15         68        42\n",
       "2001-01-11         144          19         70        55\n",
       "2001-01-12           1           0          1         0\n",
       "2001-01-14         127          24         50        53\n",
       "2001-01-15          95           7         42        46\n",
       "2001-01-16         136          15         68        53\n",
       "2001-01-17         125          20         67        38\n",
       "2001-01-18         154          27         66        61\n",
       "2001-01-21         141          12         61        68\n",
       "2001-01-22         116          14         61        41\n",
       "2001-01-23         111          20         55        36\n",
       "2001-01-24         121          15         57        49\n",
       "2001-01-25         155          26         72        57\n",
       "2001-01-28         158          20         74        64"
      ]
     },
     "metadata": {},
     "output_type": "display_data"
    },
    {
     "data": {
      "text/plain": [
       "     Index             total_count      macro_count       comp_count    \n",
       " Min.   :2001-01-01   Min.   :   1.0   Min.   :  0.00   Min.   :  0.00  \n",
       " 1st Qu.:2005-12-11   1st Qu.:  74.0   1st Qu.: 13.00   1st Qu.: 26.00  \n",
       " Median :2010-06-26   Median : 113.0   Median : 21.00   Median : 46.00  \n",
       " Mean   :2010-06-02   Mean   : 132.6   Mean   : 26.09   Mean   : 58.36  \n",
       " 3rd Qu.:2014-11-12   3rd Qu.: 158.0   3rd Qu.: 32.00   3rd Qu.: 71.00  \n",
       " Max.   :2019-08-30   Max.   :1120.0   Max.   :315.00   Max.   :674.00  \n",
       "   mix_count     \n",
       " Min.   :  0.00  \n",
       " 1st Qu.: 28.00  \n",
       " Median : 45.00  \n",
       " Mean   : 48.18  \n",
       " 3rd Qu.: 61.00  \n",
       " Max.   :450.00  "
      ]
     },
     "metadata": {},
     "output_type": "display_data"
    }
   ],
   "source": [
    "str(news)\n",
    "news[1:20,]\n",
    "summary(news)"
   ]
  },
  {
   "cell_type": "markdown",
   "metadata": {},
   "source": [
    "## S&P 500 prices and returns\n",
    "\n",
    "In this section, we will build time series of returns of companies that were included in the S&P 500 at any point between January 1, 2001 and August 31, 2019."
   ]
  }
 ],
 "metadata": {
  "kernelspec": {
   "display_name": "R",
   "language": "R",
   "name": "ir"
  },
  "language_info": {
   "codemirror_mode": "r",
   "file_extension": ".r",
   "mimetype": "text/x-r-source",
   "name": "R",
   "pygments_lexer": "r",
   "version": "3.6.3"
  }
 },
 "nbformat": 4,
 "nbformat_minor": 4
}
